{
 "cells": [
  {
   "cell_type": "markdown",
   "metadata": {},
   "source": [
    "# Exercícios em combinadores e funções de ordem superior sobre listas"
   ]
  },
  {
   "cell_type": "markdown",
   "metadata": {},
   "source": [
    "O *Notebook* desta semana tem como objectivo a exercitação do uso de funções do módulo `List` da biblioteca standard OCaml, em particular combinadores de ordem superior como `fold_left`, `fold_right`, `map`, etc. É assim desejável, e expectável, que faça uso regular de tais funções da biblioteca standard OCaml."
   ]
  },
  {
   "cell_type": "markdown",
   "metadata": {},
   "source": [
    "## Operações sobre listas"
   ]
  },
  {
   "cell_type": "markdown",
   "metadata": {},
   "source": [
    "### [*] Exercício 1:"
   ]
  },
  {
   "cell_type": "markdown",
   "metadata": {},
   "source": [
    "Dada uma lista de *Strings* `strs` e uma outra *String* `sep`, servindo como separador, produza uma nova *String* que contém todos os elementos de `strs` separados por `sep`. Por exemplo, dados como *Input* `[\"hi\"; \"bye\"]` e `\",\"`, deve produzir a *String* `\"hi,bye\"`. **Nota:** não deve existir uma ocorrência do separador nem no início nem no fim da *String* produzida. "
   ]
  },
  {
   "cell_type": "code",
   "execution_count": null,
   "metadata": {
    "vscode": {
     "languageId": "ocaml"
    }
   },
   "outputs": [],
   "source": [
    "let join_with strs sep =\n",
    "  assert false (* COMPLETAR AQUI *)"
   ]
  },
  {
   "cell_type": "code",
   "execution_count": null,
   "metadata": {
    "vscode": {
     "languageId": "ocaml"
    }
   },
   "outputs": [],
   "source": [
    "(* espaço para testes do exercício 1 *)"
   ]
  },
  {
   "cell_type": "markdown",
   "metadata": {},
   "source": [
    "### [**] Exercício 2:"
   ]
  },
  {
   "cell_type": "markdown",
   "metadata": {},
   "source": [
    "Defina uma função `propercuts` que dada uma lista `l` como *Input* devolve todos os pares de listas que representam um *corte* na lista `l`. Por exemplo, `propercuts [1; 2; 3]` deve devolver \n",
    "\n",
    "```ocaml\n",
    "  [([], [1; 2; 3]); ([1], [2; 3]); ([1; 2], [3]); ([1; 2; 3], [])]\n",
    "```"
   ]
  },
  {
   "cell_type": "markdown",
   "metadata": {},
   "source": [
    "\n",
    "**Nota:** a função `propercuts` poderá utilizar a função `List.map` como função auxiliar."
   ]
  },
  {
   "cell_type": "code",
   "execution_count": null,
   "metadata": {
    "vscode": {
     "languageId": "ocaml"
    }
   },
   "outputs": [],
   "source": [
    "let rec propercuts l =\n",
    "  assert false (* COMPLETAR AQUI *)"
   ]
  },
  {
   "cell_type": "code",
   "execution_count": null,
   "metadata": {
    "vscode": {
     "languageId": "ocaml"
    }
   },
   "outputs": [],
   "source": [
    "(* espaço para testes do exercício 2 *)"
   ]
  },
  {
   "cell_type": "markdown",
   "metadata": {},
   "source": [
    "### [**] Exercício 3:"
   ]
  },
  {
   "cell_type": "markdown",
   "metadata": {},
   "source": [
    "Considere a utilização de listas para representar conjuntos, tal como visto no *Notebook* da última semana. Defina uma função `powerset` que dado um conjunto `s` devolve o seu *powerset*, isto é, o conjunto de todos os subconjuntos de `s`. Por exemplo, `powerset [1; 2; 3; 4]` é a seguinte lista:\n",
    "```ocaml\n",
    "  [[]; [1]; [2]; [3]; [4]; [1; 2]; [1; 3]; [1; 4]; [2; 3]; [2; 4]; [3; 4]; [1; 2; 3]; [1; 2; 4]; [1; 3; 4]; [2; 3; 4]; [1; 2; 3; 4]]\n",
    "```"
   ]
  },
  {
   "cell_type": "markdown",
   "metadata": {},
   "source": [
    "**Nota:** a ordem pela qual os subconjuntos são gerados, assim como a ordem apresentada pelos elementos dentro de cada subconjunto, é irrelevante."
   ]
  },
  {
   "cell_type": "code",
   "execution_count": null,
   "metadata": {
    "vscode": {
     "languageId": "ocaml"
    }
   },
   "outputs": [],
   "source": [
    "let rec powerset s =\n",
    "  assert false (* COMPLETAR AQUI *)"
   ]
  },
  {
   "cell_type": "code",
   "execution_count": null,
   "metadata": {
    "vscode": {
     "languageId": "ocaml"
    }
   },
   "outputs": [],
   "source": [
    "(* espaço para testes do exercício 3 *)"
   ]
  },
  {
   "cell_type": "markdown",
   "metadata": {},
   "source": [
    "## Matrizes"
   ]
  },
  {
   "cell_type": "markdown",
   "metadata": {},
   "source": [
    "O seguinte conjunto de exercícios tem como objectivo definir e manipular matrizes, utilizando listas de listas de inteiros. Utilizando uma representação *baseada nas linhas* da matriz, a seguinte matriz\n",
    "$$\n",
    "\\begin{bmatrix}\n",
    "    1 & 1 & 1 \\\\[1em]\n",
    "    9 & 8 & 7\n",
    "\\end{bmatrix}\n",
    "$$\n",
    "seria representada em OCaml como a lista\n",
    "\n",
    "```ocaml\n",
    "  [[1; 1; 1]; [9; 8; 7]]\n",
    "```\n",
    "\n",
    "Uma linha matriz, isto é, um *vector* é simplesmente representado como uma list de inteiros. Por exemplo, `[9; 8; 7]`."
   ]
  },
  {
   "cell_type": "markdown",
   "metadata": {},
   "source": [
    "### [*] Exercício 4:"
   ]
  },
  {
   "cell_type": "markdown",
   "metadata": {},
   "source": [
    "Uma matriz válida é um valor do tipo `int list list` que contém pelo menos uma linha, tem pelo menos uma coluna e em que cada linha tem o mesmo número de colunas. Alguns exemplos de valores do tipo `int list list` que não são matrizes válidas:\n",
    "\n",
    "* `[]`\n",
    "* `[[1; 2]; [3]]`\n",
    "\n",
    "Defina a função `is_valid_matrix` que recebe como *Input* um valor do tipo `int list list` e verifica se este é ou não uma matriz válida."
   ]
  },
  {
   "cell_type": "code",
   "execution_count": null,
   "metadata": {
    "vscode": {
     "languageId": "ocaml"
    }
   },
   "outputs": [],
   "source": [
    "let is_valid_matrix m =\n",
    "  assert false (* COMPLETAR AQUI *)"
   ]
  },
  {
   "cell_type": "code",
   "execution_count": null,
   "metadata": {
    "vscode": {
     "languageId": "ocaml"
    }
   },
   "outputs": [],
   "source": [
    "(* espaço para testes do exercício 4 *)"
   ]
  },
  {
   "cell_type": "markdown",
   "metadata": {},
   "source": [
    "### [*] Exercício 5:"
   ]
  },
  {
   "cell_type": "markdown",
   "metadata": {},
   "source": [
    "Defina a função `add_row_vectors` que implementa a adição ponto a ponto de dois vectores. Por exemplo, `add_row_vectors [1; 1; 1] [9; 8; 7]` devolve `[10; 9; 8]`. Se os dois vectores não tiverem o mesmo tamanho, então o comportamento da função não está especificado. Isto é, pode implementar o comportamento que desejar."
   ]
  },
  {
   "cell_type": "code",
   "execution_count": null,
   "metadata": {
    "vscode": {
     "languageId": "ocaml"
    }
   },
   "outputs": [],
   "source": [
    "let add_row_vectors r1 r2 =\n",
    "  assert false (* COMPLETAR AQUI *)"
   ]
  },
  {
   "cell_type": "code",
   "execution_count": null,
   "metadata": {
    "vscode": {
     "languageId": "ocaml"
    }
   },
   "outputs": [],
   "source": [
    "(* espaço para testes do exercício 5 *)"
   ]
  },
  {
   "cell_type": "markdown",
   "metadata": {},
   "source": [
    "### [*] Exercício 6:"
   ]
  },
  {
   "cell_type": "markdown",
   "metadata": {},
   "source": [
    "Defina a função `add_matrices` que [adiciona duas matrizes](https://mathworld.wolfram.com/MatrixAddition.html) que recebe como *Input*. Se as duas matrizes não tiverem o mesmo tamanho, então o comportamento da função não está especificado."
   ]
  },
  {
   "cell_type": "code",
   "execution_count": null,
   "metadata": {
    "vscode": {
     "languageId": "ocaml"
    }
   },
   "outputs": [],
   "source": [
    "let add_matrices m1 m2 =\n",
    "  assert false (* COMPLETAR AQUI *)"
   ]
  },
  {
   "cell_type": "code",
   "execution_count": null,
   "metadata": {
    "vscode": {
     "languageId": "ocaml"
    }
   },
   "outputs": [],
   "source": [
    "(* espaço para testes do exercício 6 *)"
   ]
  },
  {
   "cell_type": "markdown",
   "metadata": {},
   "source": [
    "### [***] Exercício 7:"
   ]
  },
  {
   "cell_type": "markdown",
   "metadata": {},
   "source": [
    "Defina a função `multiply_matrices` que [multiplica duas matrizes](https://mathworld.wolfram.com/MatrixMultiplication.html) que recebe como *Input*. Se as duas matrizes não apresentam as dimensões correctas, então o comportamento da função não está especificado. **Dica:** defina funções para a [transposição de matrizes](https://mathworld.wolfram.com/Transpose.html) e [produto escalar](https://mathworld.wolfram.com/DotProduct.html) de dois vectores."
   ]
  },
  {
   "cell_type": "code",
   "execution_count": null,
   "metadata": {
    "vscode": {
     "languageId": "ocaml"
    }
   },
   "outputs": [],
   "source": [
    "let multiply_matrices m1 m2 =\n",
    "  assert false (* COMPLETAR AQUI *)"
   ]
  },
  {
   "cell_type": "code",
   "execution_count": null,
   "metadata": {
    "vscode": {
     "languageId": "ocaml"
    }
   },
   "outputs": [],
   "source": [
    "(* espaço para testes do exercício 7 *)"
   ]
  }
 ],
 "metadata": {
  "language_info": {
   "name": "python"
  }
 },
 "nbformat": 4,
 "nbformat_minor": 2
}
