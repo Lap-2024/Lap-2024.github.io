{
 "cells": [
  {
   "cell_type": "markdown",
   "metadata": {},
   "source": [
    "# Functores -- Estruturas de Dados Modulares"
   ]
  },
  {
   "cell_type": "markdown",
   "metadata": {},
   "source": [
    "## Pairing Heap como um Functor"
   ]
  },
  {
   "cell_type": "markdown",
   "metadata": {},
   "source": [
    "### Exercício 1:\n",
    "\n",
    "Recorde o [Notebook](https://lap-2024.github.io/praticas/pairing_heap.zip) da semana passada.\n",
    "\n",
    "Complete a assinatura `S` que se segue, assinatura esta que pretende servir como interface para a estrutura de dados de Pairing Heap. Deve completar esta assinatura com base nas operações sobre uma Pairing Heap. Em relação ao *Notebook* da semana passada acrescentamos apenas a operação `is_empty` que verifica se uma dada *heap* é ou não vazia."
   ]
  },
  {
   "cell_type": "code",
   "execution_count": null,
   "metadata": {
    "vscode": {
     "languageId": "ocaml"
    }
   },
   "outputs": [],
   "source": [
    "module type S = sig\n",
    "  type elt\n",
    "  (** O tipo dos elementos da heap. *)\n",
    "\n",
    "  type t\n",
    "  (** O tipo da heap. *)\n",
    "\n",
    "  val create : unit \n",
    "  (** A heap vazia.\n",
    "      COMPLETAR AQUI *)\n",
    "\n",
    "  val is_empty : unit\n",
    "  (** Verifica se uma dada heap é vazia.\n",
    "      COMPLETAR AQUI *)\n",
    "\n",
    "  val find_min : unit \n",
    "  (** Devolve o elemento mínimo da heap, ou [None] \n",
    "      se a heap estiver vazia.\n",
    "      COMPLETAR AQUI *)\n",
    "\n",
    "  val merge : unit \n",
    "  (** Fusão de duas heaps.\n",
    "      COMPLETAR AQUI *)\n",
    "\n",
    "  val add : unit \n",
    "  (** Adiciona um novo elemento na heap.\n",
    "      COMPLETAR AQUI *)\n",
    "\n",
    "  val delete_min : unit \n",
    "  (** [delete_min h] devolve uma nova heap que contém \n",
    "      todos os elementos de [h] excepto o valor mínimo.\n",
    "      Se a heap estiver vazia, devolve a heap vazia.\n",
    "      COMPLETAR AQUI *)\n",
    "end"
   ]
  },
  {
   "cell_type": "markdown",
   "metadata": {},
   "source": [
    "### Exercício 2:"
   ]
  },
  {
   "cell_type": "markdown",
   "metadata": {},
   "source": [
    "Complete a assinatura `ORD` que se segue. Esta assinatura deverá representar valores, de um tipo `t`, munidos de uma relação de ordem. Assim, deverá acrescentar uma função `leq` tal que `leq x y` devolve `true` se `x` é menor ou igual que `y`; `false` caso contrário."
   ]
  },
  {
   "cell_type": "code",
   "execution_count": null,
   "metadata": {
    "vscode": {
     "languageId": "ocaml"
    }
   },
   "outputs": [],
   "source": [
    "module type ORD = sig\n",
    "  type t\n",
    "\n",
    "  (* COMPLETAR AQUI *)\n",
    "end"
   ]
  },
  {
   "cell_type": "markdown",
   "metadata": {},
   "source": [
    "### Exercício 3:"
   ]
  },
  {
   "cell_type": "markdown",
   "metadata": {},
   "source": [
    "Utilize agora as assinaturas `S` e `ORD` definidas anteriormente para criar uma implementação functorial de uma estrutura de Pairing Heap. Deverá completar as operações indicadas de modo a que a restrição `S with type elt = O.t` seja válida."
   ]
  },
  {
   "cell_type": "code",
   "execution_count": null,
   "metadata": {
    "vscode": {
     "languageId": "ocaml"
    }
   },
   "outputs": [],
   "source": [
    "module Make (O : ORD) : S with type elt = O.t = struct\n",
    "  type elt (* COMPLETAR AQUI *)\n",
    "\n",
    "  type tree (* COMPLETAR AQUI *)\n",
    "\n",
    "  type t = E | N of tree\n",
    "\n",
    "  let create = E\n",
    "\n",
    "  let is_empty h =\n",
    "    assert false (* COMPLETAR AQUI *)\n",
    "\n",
    "  let find_min h =\n",
    "    match h with\n",
    "    | E -> None\n",
    "    | N _ -> assert false (* COMPLETAR AQUI *)\n",
    "\n",
    "  let merge h1 h2 =\n",
    "    match h1, h2 with\n",
    "    | E, h -> h\n",
    "    | h, E -> h\n",
    "    | N _, N _ -> assert false (* COMPLETAR AQUI *)\n",
    "\n",
    "  let add x h =\n",
    "    assert false (* COMPLETAR AQUI *)\n",
    "\n",
    "  let rec merge_list h =\n",
    "    match h with\n",
    "    | [] -> E\n",
    "    | [ t ] -> N t\n",
    "    | t1 :: t2 :: r -> merge (merge (N t1) (N t2)) (merge_list r)\n",
    "\n",
    "  let delete_min h =\n",
    "    match h with\n",
    "    | E -> E\n",
    "    | N _ -> assert false (* COMPLETAR AQUI *)\n",
    "end"
   ]
  },
  {
   "cell_type": "markdown",
   "metadata": {},
   "source": [
    "## Aplicação: HeapSort Modular"
   ]
  },
  {
   "cell_type": "markdown",
   "metadata": {},
   "source": [
    "### Exercício 4:"
   ]
  },
  {
   "cell_type": "markdown",
   "metadata": {},
   "source": [
    "Utilize o functor `Make` da questão anterior para definir uma implementação modular do algoritmo `heap sort` sobre listas. Este algoritmo funciona da seguinte forma:\n",
    "\n",
    "1. Colocar todos os elementos da lista `l`, o argumento, numa heap;\n",
    "2. Retirar, de forma recursiva, o elemento mínimo da heap até esta se encontrar vazia. À medida que um novo elemento é retirado da heap, o mesmo deve ser colocado numa nova lista;\n",
    "3. A nova lista apresenta os elementos ordenados por ordem inversa. Reverter esta lista, obtendo assim uma permutação da lista `l` ordenada de forma natural.\n",
    "\n",
    "Comece por definir o módulo `Heap` que deve ser uma instância do functor `Make` definido anteriormente. Experimente com diferentes tipos para os elementos da heap, por exemplo, inteiros ou *strings*.\n",
    "\n",
    "**Dica:** comece por definir duas funções auxiliares `heapify` e `de_heapify` que correspondem, respectivamente, aos pontos 1 e 2 apresentados anteriormente."
   ]
  },
  {
   "cell_type": "code",
   "execution_count": null,
   "metadata": {
    "vscode": {
     "languageId": "ocaml"
    }
   },
   "outputs": [],
   "source": [
    "module Heap (* COMPLETAR AQUI *)\n",
    "\n",
    "let heapsort l =\n",
    "  assert false (* COMPLETAR AQUI *)"
   ]
  },
  {
   "cell_type": "code",
   "execution_count": null,
   "metadata": {
    "vscode": {
     "languageId": "ocaml"
    }
   },
   "outputs": [],
   "source": [
    "(* espaço de testes para o exercício 4 *)"
   ]
  },
  {
   "cell_type": "markdown",
   "metadata": {},
   "source": [
    "# Interpretador de uma Linguagem Aritmética Simples"
   ]
  },
  {
   "cell_type": "markdown",
   "metadata": {},
   "source": [
    "### Exercício 5:"
   ]
  },
  {
   "cell_type": "markdown",
   "metadata": {},
   "source": [
    "Neste pretendemos desenvolver um interpretador para uma linguagem aritmética simples, contendo apenas variáveis, constantes inteiras e subtrações.\n",
    "\n",
    "A definição deste interpretador deve ser dada no corpo do functor `Make`, este parameterizado por uma assinatura do tipo `ID`. Tal assinatura representa os valores, de um dado tipo `t`, munidos de uma operação de comparação com a semântica habitual:\n",
    "\n",
    "* `compare x y` devolve um valor negativo se `x` é menor que `y`.\n",
    "* `compare x y` devolve o valor zero se `x` é igual a `y`.\n",
    "* `compare x y` devolve um valor positivo se `x` é maior que `y`.\n",
    "\n",
    "A assinatura `ID` é usada no functor `Make` para representar o tipo dos identificadores das variáveis.\n",
    "\n",
    "Comece por definir o módulo `Env` que deve ser uma instância do functor `Map.Make` presente na biblioteca standard do OCaml. Este módulo deverá ser usado para representar o ambiente do interpretador, isto é, um mapa de variáveis para o seu valor actual.\n",
    "\n",
    "A função `interp` é parameterizada por um ambiente `env` e uma expressão `expr`, devendo devolver apenas um único valor inteiro que representa o valor final calculado para `expr`.\n",
    "\n",
    "Pode definir o critério que bem entender para tratar o caso em que uma determinada variável ocorre na expressão sem estar definida no ambiente."
   ]
  },
  {
   "cell_type": "code",
   "execution_count": null,
   "metadata": {
    "vscode": {
     "languageId": "ocaml"
    }
   },
   "outputs": [],
   "source": [
    "module type ID = sig\n",
    "  type t\n",
    "\n",
    "  val compare : t -> t -> int\n",
    "end\n",
    "\n",
    "module Make (I : ID) = struct\n",
    "  type expr =\n",
    "    | EVar of I.t\n",
    "    | EConst of int\n",
    "    | EMinus of expr * expr\n",
    "\n",
    "  module Env (* COMPLETAR AQUI *)\n",
    "\n",
    "  let rec interp env expr =\n",
    "    assert false (* COMPLETAR AQUI *)\n",
    "end"
   ]
  },
  {
   "cell_type": "code",
   "execution_count": null,
   "metadata": {
    "vscode": {
     "languageId": "ocaml"
    }
   },
   "outputs": [],
   "source": [
    "(* espaço de testes para o exercício 5 *)"
   ]
  }
 ],
 "metadata": {
  "kernelspec": {
   "display_name": "OCaml lap2024-teacher",
   "language": "OCaml",
   "name": "ocaml-jupyter"
  },
  "language_info": {
   "codemirror_mode": "text/x-ocaml",
   "file_extension": ".ml",
   "mimetype": "text/x-ocaml",
   "name": "OCaml",
   "nbconverter_exporter": null,
   "pygments_lexer": "OCaml",
   "version": "4.14.0"
  }
 },
 "nbformat": 4,
 "nbformat_minor": 2
}
