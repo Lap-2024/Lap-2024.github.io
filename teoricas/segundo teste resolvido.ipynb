{
 "cells": [
  {
   "cell_type": "markdown",
   "metadata": {
    "vscode": {
     "languageId": "ocaml"
    }
   },
   "source": [
    "# Resolução do Segundo Teste LAP 2024\n"
   ]
  },
  {
   "cell_type": "markdown",
   "metadata": {},
   "source": [
    "## Primeiro Grupo\n",
    "\n",
    "Este grupo é composto por 6 questões de escolha múltipla sobre conhecimentos gerais de linguagens de programação. Para cada questão, apenas uma das opções é correta. Cada pergunta é avaliada em 1 ponto. "
   ]
  },
  {
   "cell_type": "markdown",
   "metadata": {},
   "source": [
    "## Segundo Grupo\n",
    "\n",
    "Este grupo é sobre algoritmos sobre tipos algébricos. \n",
    "\n",
    "Considere o tipo de dados `tree` que representa uma árvore binária de inteiros. \n",
    "\n",
    "```ocaml\n",
    "type 'a tree = \n",
    "  | Leaf \n",
    "  | Node of 'a * 'a tree * 'a tree\n",
    "```"
   ]
  },
  {
   "cell_type": "markdown",
   "metadata": {},
   "source": [
    "Pergunta X (*) [3 valores] Implemente a função `mirror` que inverte a árvore com a seguinte assinatura:\n",
    "\n",
    "`mirror : 'a tree -> 'a tree`\n",
    "\n",
    "como resultado, considere o exemplo, \n",
    "\n",
    "```ocaml\n",
    "let t = Node(1, Node(2, Leaf, Leaf), Node(3, Leaf, Leaf))\n",
    "let t' = mirror t\n",
    "let _ = assert (t' = Node(1, Node(3, Leaf, Leaf), Node(2, Leaf, Leaf)))\n",
    "```"
   ]
  },
  {
   "cell_type": "code",
   "execution_count": 1,
   "metadata": {
    "vscode": {
     "languageId": "ocaml"
    }
   },
   "outputs": [
    {
     "data": {
      "text/plain": [
       "type 'a tree = Leaf | Node of 'a * 'a tree * 'a tree\n"
      ]
     },
     "execution_count": 1,
     "metadata": {},
     "output_type": "execute_result"
    },
    {
     "data": {
      "text/plain": [
       "val mirror : 'a tree -> 'a tree = <fun>\n"
      ]
     },
     "execution_count": 1,
     "metadata": {},
     "output_type": "execute_result"
    },
    {
     "data": {
      "text/plain": [
       "val t : int tree = Node (1, Node (2, Leaf, Leaf), Node (3, Leaf, Leaf))\n"
      ]
     },
     "execution_count": 1,
     "metadata": {},
     "output_type": "execute_result"
    },
    {
     "data": {
      "text/plain": [
       "val t' : int tree = Node (1, Node (3, Leaf, Leaf), Node (2, Leaf, Leaf))\n"
      ]
     },
     "execution_count": 1,
     "metadata": {},
     "output_type": "execute_result"
    },
    {
     "data": {
      "text/plain": [
       "- : unit = ()\n"
      ]
     },
     "execution_count": 1,
     "metadata": {},
     "output_type": "execute_result"
    }
   ],
   "source": [
    "(* SOLUCAO: *) \n",
    "\n",
    "type 'a tree = \n",
    "  | Leaf \n",
    "  | Node of 'a * 'a tree * 'a tree\n",
    "\n",
    "let rec mirror = function\n",
    "  | Leaf -> Leaf\n",
    "  | Node (x, l, r) -> Node (x, mirror r, mirror l)\n",
    "\n",
    "let t = Node(1, Node(2, Leaf, Leaf), Node(3, Leaf, Leaf))\n",
    "let t' = mirror t\n",
    "let _ = assert (t' = Node(1, Node(3, Leaf, Leaf), Node(2, Leaf, Leaf)))\n"
   ]
  },
  {
   "cell_type": "markdown",
   "metadata": {
    "vscode": {
     "languageId": "ocaml"
    }
   },
   "source": [
    "Pergunta X (**) [3 valores] Implemente a função `zip_tree` que junta duas árvores par a par com a seguinte assinatura:\n",
    "\n",
    "`zip_tree : 'a tree -> 'b tree -> ('a * 'b) tree`\n",
    "\n",
    "A cada passo, a função `zip_tree` junta os nós das duas árvores, e, se num determinado momento não houver um par possível, acaba com uma excepção `Expecting Node, found Leaf`. Como resultado, considere o exemplo,\n",
    "\n",
    "```ocaml\n",
    "let _ = \n",
    "  let t = Node(1, Node(2, Leaf, Leaf), Node(3, Leaf, Leaf) ) in\n",
    "  let t' = Node(4, Node(5, Leaf, Leaf), Node(6, Leaf, Leaf) ) in\n",
    "  let t'' = zip_tree t t' in\n",
    "  assert (t'' = Node((1, 4), Node((2, 5), Leaf, Leaf), Node((3, 6), Leaf, Leaf)))\n",
    "```"
   ]
  },
  {
   "cell_type": "code",
   "execution_count": 2,
   "metadata": {
    "vscode": {
     "languageId": "ocaml"
    }
   },
   "outputs": [
    {
     "data": {
      "text/plain": [
       "type 'a tree = Leaf | Node of 'a * 'a tree * 'a tree\n"
      ]
     },
     "execution_count": 2,
     "metadata": {},
     "output_type": "execute_result"
    },
    {
     "data": {
      "text/plain": [
       "val zip_tree : 'a tree -> 'b tree -> ('a * 'b) tree = <fun>\n"
      ]
     },
     "execution_count": 2,
     "metadata": {},
     "output_type": "execute_result"
    },
    {
     "data": {
      "text/plain": [
       "- : unit = ()\n"
      ]
     },
     "execution_count": 2,
     "metadata": {},
     "output_type": "execute_result"
    }
   ],
   "source": [
    "(* SOLUCAO: *) \n",
    "\n",
    "type 'a tree = Leaf | Node of 'a * 'a tree * 'a tree\n",
    "\n",
    "let rec zip_tree t t' = \n",
    "  match t, t' with\n",
    "  | Leaf, Leaf -> Leaf\n",
    "  | Node (x, l, r), Node (y, l', r') -> Node ((x, y), zip_tree l l', zip_tree r r')\n",
    "  | _ -> raise (Invalid_argument \"zip_tree\")\n",
    "\n",
    "let _ = \n",
    "  let t = Node(1, Node(2, Leaf, Leaf), Node(3, Leaf, Leaf) ) in\n",
    "  let t' = Node(4, Node(5, Leaf, Leaf), Node(6, Leaf, Leaf) ) in\n",
    "  let t'' = zip_tree t t' in\n",
    "  assert (t'' = Node((1, 4), Node((2, 5), Leaf, Leaf), Node((3, 6), Leaf, Leaf)))\n"
   ]
  },
  {
   "cell_type": "markdown",
   "metadata": {},
   "source": [
    "Pergunta X (***) [3 valores] Implemente a função `map2_with_or_without` que aplica uma função a cada par de nós de duas árvore. A função é desenhada como tendo parâmetros opcionais através do tipo `option`. Se uma das árvores for mais pequena que a outra em algum sítio, aplica-se a função usando `None` nesse sítio. A função tem a seguinte assinatura:\n",
    "\n",
    "```ocaml\n",
    "val map2_with_or_without : ('a option -> 'b option -> 'c) -> 'a tree -> 'b tree -> 'c tree\n",
    "```\n",
    "\n",
    "Como resultado, considere o exemplo,\n",
    "\n",
    "```ocaml\n",
    "let _ = \n",
    "  let z = function | Some x -> x | None -> 0 in\n",
    "  let f = (fun x y -> z x + z y) in\n",
    "  let t = Node(1, Node(2, Leaf, Leaf), Node(3, Leaf, Leaf) ) in\n",
    "  let t' = Node(4, Node(5, Node(6, Leaf, Leaf), Leaf), Leaf ) in\n",
    "  let t'' = map2_with_or_without f t t' in\n",
    "  assert (t'' = Node(5, Node(7, Node(6, Leaf, Leaf), Leaf), Node(3, Leaf, Leaf)))\n",
    "```\n"
   ]
  },
  {
   "cell_type": "code",
   "execution_count": 3,
   "metadata": {
    "vscode": {
     "languageId": "ocaml"
    }
   },
   "outputs": [
    {
     "data": {
      "text/plain": [
       "val map2_with_or_without :\n",
       "  ('a option -> 'b option -> 'c) -> 'a tree -> 'b tree -> 'c tree = <fun>\n"
      ]
     },
     "execution_count": 3,
     "metadata": {},
     "output_type": "execute_result"
    },
    {
     "data": {
      "text/plain": [
       "- : unit = ()\n"
      ]
     },
     "execution_count": 3,
     "metadata": {},
     "output_type": "execute_result"
    }
   ],
   "source": [
    "(* SOLUCAO: *) \n",
    "\n",
    "let rec map2_with_or_without f t t' = \n",
    "  match t, t' with\n",
    "  | Leaf, Leaf -> Leaf\n",
    "  | Node (x, l, r), Node (y, l', r') -> Node (f (Some x) (Some y), map2_with_or_without f l l', map2_with_or_without f r r')\n",
    "  | Node (x, l, r), Leaf -> Node (f (Some x) None, map2_with_or_without f l Leaf, map2_with_or_without f r Leaf)\n",
    "  | Leaf, Node (y, l', r') -> Node (f None (Some y), map2_with_or_without f Leaf l', map2_with_or_without f Leaf r')\n",
    "\n",
    "let _ = \n",
    "  let z = function | Some x -> x | None -> 0 in\n",
    "  let f = (fun x y -> z x + z y) in\n",
    "  let t = Node(1, Node(2, Leaf, Leaf), Node(3, Leaf, Leaf) ) in\n",
    "  let t' = Node(4, Node(5, Node(6, Leaf, Leaf), Leaf), Leaf ) in\n",
    "  let t'' = map2_with_or_without f t t' in\n",
    "  assert (t'' = Node(5, Node(7, Node(6, Leaf, Leaf), Leaf), Node(3, Leaf, Leaf)))"
   ]
  },
  {
   "cell_type": "markdown",
   "metadata": {},
   "source": [
    "## Terceiro Grupo\n",
    "Este grupo é sobre a utilização de módulos em OCaml. Considere a seguinte assinatura de um módulo que implementa um relógio de 24 horas e uma implementação exemplo utilizando um registo.\n",
    "\n",
    "```ocaml\n",
    "module type Clock = sig\n",
    "  type time\n",
    "  val compare : time -> time -> int\n",
    "  val clock_of_seconds : int -> time\n",
    "  val seconds_of_clock : time -> int\n",
    "  val minutes_of_clock : time -> int\n",
    "  val hours_of_clock : time -> int\n",
    "end\n",
    "\n",
    "module Date = struct\n",
    "  type t = { hours : int; minutes : int; seconds : int }\n",
    "  let compare d1 d2 = \n",
    "    if d1.hours <> d2.hours then d1.hours - d2.hours\n",
    "    else if d1.minutes <> d2.minutes then d1.minutes - d2.minutes\n",
    "    else d1.seconds - d2.seconds\n",
    "  let clock_of_seconds s = { hours = s / 3600; minutes = (s mod 3600) / 60; seconds = s mod 60 }\n",
    "  let seconds_of_clock d = d.seconds\n",
    "  let minutes_of_clock d = d.minutes\n",
    "  let hours_of_clock d = d.hours\n",
    "end\n",
    "```"
   ]
  },
  {
   "cell_type": "markdown",
   "metadata": {},
   "source": [
    "Pergunta X (*) [2 valores] **Implemente** um módulo `ClockShort` que implementa o a assinatura de módulo `Clock` com uma representação interna tipo de dados `int` que representa o número de segundos desde a meia-noite. **Dê um exemplo de utilização** do módulo `ClockShort`."
   ]
  },
  {
   "cell_type": "code",
   "execution_count": 4,
   "metadata": {
    "vscode": {
     "languageId": "ocaml"
    }
   },
   "outputs": [
    {
     "data": {
      "text/plain": [
       "module type Clock =\n",
       "  sig\n",
       "    type time\n",
       "    val compare : time -> time -> int\n",
       "    val clock_of_seconds : int -> time\n",
       "    val seconds_of_clock : time -> int\n",
       "    val minutes_of_clock : time -> int\n",
       "    val hours_of_clock : time -> int\n",
       "  end\n"
      ]
     },
     "execution_count": 4,
     "metadata": {},
     "output_type": "execute_result"
    },
    {
     "data": {
      "text/plain": [
       "module Date :\n",
       "  sig\n",
       "    type t = { hours : int; minutes : int; seconds : int; }\n",
       "    val compare : t -> t -> int\n",
       "    val clock_of_seconds : int -> t\n",
       "    val seconds_of_clock : t -> int\n",
       "    val minutes_of_clock : t -> int\n",
       "    val hours_of_clock : t -> int\n",
       "  end\n"
      ]
     },
     "execution_count": 4,
     "metadata": {},
     "output_type": "execute_result"
    },
    {
     "data": {
      "text/plain": [
       "module DateShort :\n",
       "  sig\n",
       "    type t = int\n",
       "    val compare : int -> int -> int\n",
       "    val clock_of_seconds : 'a -> 'a\n",
       "    val seconds_of_clock : int -> int\n",
       "    val minutes_of_clock : int -> int\n",
       "    val hours_of_clock : int -> int\n",
       "  end\n"
      ]
     },
     "execution_count": 4,
     "metadata": {},
     "output_type": "execute_result"
    }
   ],
   "source": [
    "(* SOLUCAO *)\n",
    "\n",
    "module type Clock = sig\n",
    "  type time\n",
    "  val compare : time -> time -> int\n",
    "  val clock_of_seconds : int -> time\n",
    "  val seconds_of_clock : time -> int\n",
    "  val minutes_of_clock : time -> int\n",
    "  val hours_of_clock : time -> int\n",
    "end\n",
    "\n",
    "module Date = struct\n",
    "  type t = { hours : int; minutes : int; seconds : int }\n",
    "  let compare d1 d2 = \n",
    "    if d1.hours <> d2.hours then d1.hours - d2.hours\n",
    "    else if d1.minutes <> d2.minutes then d1.minutes - d2.minutes\n",
    "    else d1.seconds - d2.seconds\n",
    "  let clock_of_seconds s = { hours = s / 3600; minutes = (s mod 3600) / 60; seconds = s mod 60 }\n",
    "  let seconds_of_clock d = d.seconds\n",
    "  let minutes_of_clock d = d.minutes\n",
    "  let hours_of_clock d = d.hours\n",
    "end\n",
    "\n",
    "module DateShort = struct\n",
    "  type t = int\n",
    "  let compare d1 d2 = d1 - d2\n",
    "  let clock_of_seconds s = s\n",
    "  let seconds_of_clock d = d mod 60\n",
    "  let minutes_of_clock d = (d / 60) mod 60\n",
    "  let hours_of_clock d = (d / 3600) mod 24\n",
    "end\n",
    "\n"
   ]
  },
  {
   "cell_type": "markdown",
   "metadata": {},
   "source": [
    "## Quarto Grupo"
   ]
  },
  {
   "cell_type": "markdown",
   "metadata": {},
   "source": [
    "Pergunta X. Esta questão é sobre o desenho de interpretadores e compiladores.\n",
    "\n",
    "Considere o seguinte tipo para a representação de expressões aritméticas:\n",
    "\n",
    "```ocaml\n",
    "type ast = \n",
    "  | Num of int \n",
    "  | Add of ast * ast \n",
    "  | Sub of ast * ast \n",
    "  | Mul of ast * ast \n",
    "  | Div of ast * ast \n",
    "```\n",
    "\n",
    "e a função `eval` que avalia uma expressão aritmética:\n",
    "\n",
    "```ocaml\n",
    "let rec eval = function\n",
    "  | Num n -> n\n",
    "  | Add (a, b) -> eval a + eval b\n",
    "  | Sub (a, b) -> eval a - eval b\n",
    "  | Mul (a, b) -> eval a * eval b\n",
    "  | Div (a, b) -> eval a / eval b\n",
    "```\n",
    "\n",
    "Pergunta X (*) [1 valor] Estenda o tipo `ast` com a operação de resto da divisão inteira e a função `eval` para suportar esta operação.\n"
   ]
  },
  {
   "cell_type": "code",
   "execution_count": 7,
   "metadata": {
    "vscode": {
     "languageId": "ocaml"
    }
   },
   "outputs": [
    {
     "data": {
      "text/plain": [
       "type ast =\n",
       "    Num of int\n",
       "  | Add of ast * ast\n",
       "  | Sub of ast * ast\n",
       "  | Mul of ast * ast\n",
       "  | Div of ast * ast\n",
       "  | Mod of ast * ast\n"
      ]
     },
     "execution_count": 7,
     "metadata": {},
     "output_type": "execute_result"
    },
    {
     "data": {
      "text/plain": [
       "val eval : ast -> int = <fun>\n"
      ]
     },
     "execution_count": 7,
     "metadata": {},
     "output_type": "execute_result"
    }
   ],
   "source": [
    "type ast = \n",
    "  | Num of int \n",
    "  | Add of ast * ast \n",
    "  | Sub of ast * ast \n",
    "  | Mul of ast * ast \n",
    "  | Div of ast * ast \n",
    "  | Mod of ast * ast \n",
    "\n",
    "let rec eval = function\n",
    "  | Num n -> n\n",
    "  | Add (a, b) -> eval a + eval b\n",
    "  | Sub (a, b) -> eval a - eval b\n",
    "  | Mul (a, b) -> eval a * eval b\n",
    "  | Div (a, b) -> eval a / eval b\n",
    "  | Mod (a, b) -> (eval a) mod (eval b)\n"
   ]
  },
  {
   "cell_type": "markdown",
   "metadata": {},
   "source": [
    "\n",
    "\n",
    "Pergunta X+1 (****) [2 valores] Estenda o tipo `ast` com a operação de somatório \n",
    "\n",
    "$$\\sum_{i=1}^{n} E$$\n",
    "\n",
    "estenda a função `eval` para suportar esta operação. onde a variável do somatório é fixa (em \"i\") o primeiro argumento é o limite inferior e o segundo argumento é o limite superior. Considere os seguintes exemplos, onde pode usar a variável `Vari` para representar a variável do somatório e `Sum` para representar a operação de somatório. Como sugestão, pode ainda alterar a assinatura da função `eval` com um valor inteiro para servir de acumulador. Pretende-se fazer uma função pura, sem efeitos laterais.\n",
    "\n",
    "$$\\sum_{i=1}^{10} i$$\n",
    "\n",
    "```ocaml\n",
    "eval 0 (Sum (Num 1, Num 10, (Mul (Num 2, Vari))) = 110\n",
    "```\n",
    "\n",
    "**Hint**: pode usar um inteiro extra na assinatura para representar o índice do somatório.\n",
    "\n",
    "$$\\sum_{i=1}^{10} (2\\sum_{i=1}^{i}{i}) = 440$$ \n",
    "\n",
    "Note que a variável `i` usada como limite superior do segundo somatório é local ao primeiro somatório.\n",
    "\n",
    "```ocaml\n",
    "eval 0 (Sum (Num 1, Num 10, (Mul (Num 2, (Sum (Num 1, Vari, Vari)))))) = 440\n",
    "```"
   ]
  },
  {
   "cell_type": "code",
   "execution_count": 6,
   "metadata": {
    "vscode": {
     "languageId": "ocaml"
    }
   },
   "outputs": [
    {
     "data": {
      "text/plain": [
       "type ast =\n",
       "    Num of int\n",
       "  | Add of ast * ast\n",
       "  | Sub of ast * ast\n",
       "  | Mul of ast * ast\n",
       "  | Div of ast * ast\n",
       "  | Sum of ast * ast * ast\n",
       "  | Vari\n"
      ]
     },
     "execution_count": 6,
     "metadata": {},
     "output_type": "execute_result"
    },
    {
     "data": {
      "text/plain": [
       "val eval : int -> ast -> int = <fun>\n"
      ]
     },
     "execution_count": 6,
     "metadata": {},
     "output_type": "execute_result"
    },
    {
     "data": {
      "text/plain": [
       "- : int = 55\n"
      ]
     },
     "execution_count": 6,
     "metadata": {},
     "output_type": "execute_result"
    },
    {
     "data": {
      "text/plain": [
       "- : int = 110\n"
      ]
     },
     "execution_count": 6,
     "metadata": {},
     "output_type": "execute_result"
    },
    {
     "data": {
      "text/plain": [
       "- : int = 440\n"
      ]
     },
     "execution_count": 6,
     "metadata": {},
     "output_type": "execute_result"
    },
    {
     "data": {
      "text/plain": [
       "- : int = 110\n"
      ]
     },
     "execution_count": 6,
     "metadata": {},
     "output_type": "execute_result"
    }
   ],
   "source": [
    "(* SOLUCAO: *)\n",
    "\n",
    "type ast = \n",
    "  | Num of int \n",
    "  | Add of ast * ast \n",
    "  | Sub of ast * ast \n",
    "  | Mul of ast * ast \n",
    "  | Div of ast * ast \n",
    "  | Sum of ast * ast * ast\n",
    "  | Vari\n",
    "\n",
    "let rec eval i = function\n",
    "  | Num n -> n\n",
    "  | Add (a, b) -> eval i a + eval i b\n",
    "  | Sub (a, b) -> eval i a - eval i b\n",
    "  | Mul (a, b) -> eval i a * eval i b\n",
    "  | Div (a, b) -> eval i a / eval i b\n",
    "  | Vari -> i\n",
    "  | Sum (a, b, c) -> let n = eval i a in let m = eval i b in if n <= m then (eval n c) + eval n (Sum (Add(Num n, Num 1), Num m, c))\n",
    "   else 0\n",
    "\n",
    "let _ = eval 0 (Sum (Num 1, Num 10, Vari))\n",
    "\n",
    "let _ = eval 0 (Sum (Num 1, Num 10, (Mul (Num 2, Vari))))\n",
    "\n",
    "let _ = eval 0 (Sum (Num 1, Num 10, (Mul (Num 2, (Sum (Num 1, Vari, Vari))))))\n",
    "\n",
    "let _ = eval 0 (Add ((Sum (Num 1, Num 10, Vari)), (Sum (Num 1, Num 10, Vari))))\n"
   ]
  }
 ],
 "metadata": {
  "kernelspec": {
   "display_name": "OCaml 4.12.0",
   "language": "OCaml",
   "name": "ocaml-jupyter"
  },
  "language_info": {
   "codemirror_mode": "text/x-ocaml",
   "file_extension": ".ml",
   "mimetype": "text/x-ocaml",
   "name": "OCaml",
   "nbconverter_exporter": null,
   "pygments_lexer": "OCaml",
   "version": "4.12.0"
  }
 },
 "nbformat": 4,
 "nbformat_minor": 2
}
