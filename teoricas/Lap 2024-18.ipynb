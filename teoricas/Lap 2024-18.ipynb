{
 "cells": [
  {
   "cell_type": "code",
   "execution_count": 6,
   "metadata": {
    "vscode": {
     "languageId": "ocaml"
    }
   },
   "outputs": [
    {
     "data": {
      "text/plain": [
       "type ast =\n",
       "    Num of int\n",
       "  | Add of ast * ast\n",
       "  | Sub of ast * ast\n",
       "  | Mul of ast * ast\n",
       "  | Div of ast * ast\n",
       "  | IfNZero of ast * ast * ast\n"
      ]
     },
     "execution_count": 6,
     "metadata": {},
     "output_type": "execute_result"
    }
   ],
   "source": [
    "type ast = \n",
    "  | Num of int \n",
    "  | Add of ast * ast \n",
    "  | Sub of ast * ast \n",
    "  | Mul of ast * ast \n",
    "  | Div of ast * ast \n",
    "  | IfNZero of ast * ast * ast"
   ]
  },
  {
   "cell_type": "code",
   "execution_count": 17,
   "metadata": {
    "vscode": {
     "languageId": "ocaml"
    }
   },
   "outputs": [
    {
     "data": {
      "text/plain": [
       "val example_1 : ast = IfNZero (Num 1, Num 3, Num 4)\n"
      ]
     },
     "execution_count": 17,
     "metadata": {},
     "output_type": "execute_result"
    },
    {
     "data": {
      "text/plain": [
       "val example_2 : ast = Add (Num 1, Num 2)\n"
      ]
     },
     "execution_count": 17,
     "metadata": {},
     "output_type": "execute_result"
    },
    {
     "data": {
      "text/plain": [
       "val example_3 : ast = Add (Num 1, IfNZero (Sub (Num 1, Num 1), Num 3, Num 4))\n"
      ]
     },
     "execution_count": 17,
     "metadata": {},
     "output_type": "execute_result"
    }
   ],
   "source": [
    "let example_1 = IfNZero (Num 1, Num 3, Num 4)\n",
    "let example_2 = Add (Num 1, Num 2)\n",
    "let example_3 = Add (Num 1, IfNZero (Sub (Num 1, Num 1), Num 3, Num 4))"
   ]
  },
  {
   "cell_type": "code",
   "execution_count": 21,
   "metadata": {
    "vscode": {
     "languageId": "ocaml"
    }
   },
   "outputs": [
    {
     "data": {
      "text/plain": [
       "- : int = 7\n"
      ]
     },
     "execution_count": 21,
     "metadata": {},
     "output_type": "execute_result"
    },
    {
     "data": {
      "text/plain": [
       "- : int = 7\n"
      ]
     },
     "execution_count": 21,
     "metadata": {},
     "output_type": "execute_result"
    },
    {
     "data": {
      "text/plain": [
       "- : int = 7\n"
      ]
     },
     "execution_count": 21,
     "metadata": {},
     "output_type": "execute_result"
    },
    {
     "data": {
      "text/plain": [
       "- : int = 7\n"
      ]
     },
     "execution_count": 21,
     "metadata": {},
     "output_type": "execute_result"
    },
    {
     "data": {
      "text/plain": [
       "- : int = 7\n"
      ]
     },
     "execution_count": 21,
     "metadata": {},
     "output_type": "execute_result"
    },
    {
     "data": {
      "text/plain": [
       "- : int = 7\n"
      ]
     },
     "execution_count": 21,
     "metadata": {},
     "output_type": "execute_result"
    },
    {
     "data": {
      "text/plain": [
       "- : int = 7\n"
      ]
     },
     "execution_count": 21,
     "metadata": {},
     "output_type": "execute_result"
    },
    {
     "data": {
      "text/plain": [
       "- : int = 7\n"
      ]
     },
     "execution_count": 21,
     "metadata": {},
     "output_type": "execute_result"
    }
   ],
   "source": [
    "let _ = eval (Add(Num 1, Mul (Num 2, Num 3)))\n",
    "\n",
    "let _ = eval (Num 1) + eval (Mul (Num 2, Num 3))\n",
    "\n",
    "let _ = 1 + eval (Mul (Num 2, Num 3))\n",
    "\n",
    "let _ = 1 + (eval (Num 2) * eval (Num 3))\n",
    "\n",
    "let _ = 1 + (2 * eval (Num 3))\n",
    "\n",
    "let _ = 1 + (2 * 3)\n",
    "\n",
    "let _ = 1 + 6\n",
    "\n",
    "let _ = 7\n",
    "\n"
   ]
  },
  {
   "cell_type": "code",
   "execution_count": 8,
   "metadata": {
    "vscode": {
     "languageId": "ocaml"
    }
   },
   "outputs": [
    {
     "data": {
      "text/plain": [
       "val eval : ast -> int = <fun>\n"
      ]
     },
     "execution_count": 8,
     "metadata": {},
     "output_type": "execute_result"
    }
   ],
   "source": [
    "let rec eval = function\n",
    "  | Num n -> n\n",
    "  | Add (a, b) -> eval a + eval b\n",
    "  | Sub (a, b) -> eval a - eval b\n",
    "  | Mul (a, b) -> eval a * eval b\n",
    "  | Div (a, b) -> eval a / eval b\n",
    "  | IfNZero (a, b, c) -> if eval a = 0 then eval c else eval b"
   ]
  },
  {
   "cell_type": "code",
   "execution_count": 9,
   "metadata": {
    "vscode": {
     "languageId": "ocaml"
    }
   },
   "outputs": [
    {
     "data": {
      "text/plain": [
       "- : int = 3\n"
      ]
     },
     "execution_count": 9,
     "metadata": {},
     "output_type": "execute_result"
    },
    {
     "data": {
      "text/plain": [
       "- : int = 3\n"
      ]
     },
     "execution_count": 9,
     "metadata": {},
     "output_type": "execute_result"
    },
    {
     "data": {
      "text/plain": [
       "- : int = 5\n"
      ]
     },
     "execution_count": 9,
     "metadata": {},
     "output_type": "execute_result"
    }
   ],
   "source": [
    "let _ = eval example_1\n",
    "let _ = eval example_2\n",
    "let _ = eval example_3\n"
   ]
  },
  {
   "cell_type": "code",
   "execution_count": 13,
   "metadata": {
    "vscode": {
     "languageId": "ocaml"
    }
   },
   "outputs": [
    {
     "data": {
      "text/plain": [
       "val counter : int ref = {contents = 0}\n"
      ]
     },
     "execution_count": 13,
     "metadata": {},
     "output_type": "execute_result"
    },
    {
     "data": {
      "text/plain": [
       "val new_label : unit -> string = <fun>\n"
      ]
     },
     "execution_count": 13,
     "metadata": {},
     "output_type": "execute_result"
    },
    {
     "data": {
      "text/plain": [
       "type instruction =\n",
       "    SAdd\n",
       "  | SSub\n",
       "  | SMul\n",
       "  | SDiv\n",
       "  | SPush of int\n",
       "  | SPop\n",
       "  | SDup\n",
       "  | SOver\n",
       "  | SJmp of string\n",
       "  | SJz of string\n",
       "  | SJnz of string\n",
       "  | SCmp\n",
       "  | SSwp\n",
       "  | SReturn\n",
       "  | SLabel of string\n"
      ]
     },
     "execution_count": 13,
     "metadata": {},
     "output_type": "execute_result"
    },
    {
     "data": {
      "text/plain": [
       "val unparse_s : instruction -> string = <fun>\n"
      ]
     },
     "execution_count": 13,
     "metadata": {},
     "output_type": "execute_result"
    },
    {
     "data": {
      "text/plain": [
       "val unparse_l : instruction list -> string list = <fun>\n"
      ]
     },
     "execution_count": 13,
     "metadata": {},
     "output_type": "execute_result"
    }
   ],
   "source": [
    "let counter = ref 0 \n",
    "\n",
    "let new_label () = \n",
    "    let l = !counter in \n",
    "    (counter := !counter + 1; \"L\" ^ string_of_int l ^ \"_\")\n",
    "\n",
    "type instruction =\n",
    "  | SAdd\n",
    "  | SSub\n",
    "  | SMul\n",
    "  | SDiv\n",
    "  | SPush of int\n",
    "  | SPop\n",
    "  | SDup\n",
    "  | SOver\n",
    "  | SJmp of string\n",
    "  | SJz of string\n",
    "  | SJnz of string\n",
    "  | SCmp\n",
    "  | SSwp\n",
    "  | SReturn\n",
    "  | SLabel of string\n",
    "\n",
    "let unparse_s = function\n",
    "  | SAdd -> \"add\"\n",
    "  | SSub -> \"sub\"\n",
    "  | SMul -> \"mul\"\n",
    "  | SDiv -> \"div\"\n",
    "  | SPush n -> \"push \" ^ string_of_int n\n",
    "  | SPop -> \"pop\"\n",
    "  | SDup -> \"dup\"\n",
    "  | SOver -> \"over\"\n",
    "  | SJmp l -> \"jmp \" ^ l\n",
    "  | SJz l -> \"jz \" ^ l\n",
    "  | SJnz l -> \"jnz \" ^ l\n",
    "  | SCmp -> \"cmp\"\n",
    "  | SSwp -> \"swp\"\n",
    "  | SReturn -> \"return\"\n",
    "  | SLabel l -> l ^ \":\"\n",
    "\n",
    "let unparse_l l = List.map unparse_s l\n",
    "\n"
   ]
  },
  {
   "cell_type": "code",
   "execution_count": 15,
   "metadata": {
    "vscode": {
     "languageId": "ocaml"
    }
   },
   "outputs": [
    {
     "data": {
      "text/plain": [
       "val compile : ast -> instruction list = <fun>\n"
      ]
     },
     "execution_count": 15,
     "metadata": {},
     "output_type": "execute_result"
    }
   ],
   "source": [
    "let rec compile = function \n",
    "  | Num n -> [SPush n]\n",
    "  | Add (e1, e2) -> compile e1 @ compile e2 @ [SAdd]\n",
    "  | Sub (e1, e2) -> compile e1 @ compile e2 @ [SSub]\n",
    "  | Mul (e1, e2) -> compile e1 @ compile e2 @ [SMul]\n",
    "  | Div (e1, e2) -> compile e1 @ compile e2 @ [SDiv]\n",
    "  | IfNZero (b, e1, e2) -> \n",
    "      let l = new_label () in \n",
    "      compile b @ [SJz (l ^ \"else\")] @ \n",
    "      compile e1 @ [SJmp (l ^ \"end\"); SLabel (l ^ \"else\")] @ compile e2 @ [SLabel (l ^ \"end\")]"
   ]
  },
  {
   "cell_type": "code",
   "execution_count": 24,
   "metadata": {
    "vscode": {
     "languageId": "ocaml"
    }
   },
   "outputs": [
    {
     "data": {
      "text/plain": [
       "- : instruction list =\n",
       "[SPush 1; SJz \"L12_else\"; SPush 3; SJmp \"L12_end\"; SLabel \"L12_else\";\n",
       " SPush 4; SLabel \"L12_end\"]\n"
      ]
     },
     "execution_count": 24,
     "metadata": {},
     "output_type": "execute_result"
    },
    {
     "data": {
      "text/plain": [
       "- : instruction list = [SPush 1; SPush 2; SAdd]\n"
      ]
     },
     "execution_count": 24,
     "metadata": {},
     "output_type": "execute_result"
    },
    {
     "data": {
      "text/plain": [
       "- : instruction list =\n",
       "[SPush 1; SPush 1; SPush 1; SSub; SJz \"L13_else\"; SPush 3; SJmp \"L13_end\";\n",
       " SLabel \"L13_else\"; SPush 4; SLabel \"L13_end\"; SAdd]\n"
      ]
     },
     "execution_count": 24,
     "metadata": {},
     "output_type": "execute_result"
    },
    {
     "name": "stdout",
     "output_type": "stream",
     "text": [
      "push 1\n",
      "push 1\n",
      "push 1\n",
      "sub\n",
      "jz L14_else\n",
      "push 3\n",
      "jmp L14_end\n",
      "L14_else:\n",
      "push 4\n",
      "L14_end:\n",
      "add\n"
     ]
    },
    {
     "data": {
      "text/plain": [
       "val s : unit = ()\n"
      ]
     },
     "execution_count": 24,
     "metadata": {},
     "output_type": "execute_result"
    },
    {
     "data": {
      "text/plain": [
       "- : bool = true\n"
      ]
     },
     "execution_count": 24,
     "metadata": {},
     "output_type": "execute_result"
    },
    {
     "data": {
      "text/plain": [
       "- : bool = false\n"
      ]
     },
     "execution_count": 24,
     "metadata": {},
     "output_type": "execute_result"
    }
   ],
   "source": [
    "let _ = compile example_1\n",
    "let _ = compile example_2\n",
    "let _ = compile example_3\n",
    "\n",
    "let s = List.iter print_endline (unparse_l (compile example_3))\n",
    "\n",
    "let _ = compile (Add (Num 1, Mul (Num 2, Num 3))) = [SPush 1; SPush 2; SPush 3; SMul; SAdd]\n",
    "\n",
    "let _ = compile (IfNZero (Num 1, Num 3, Num 4)) = [SPush 1; SJz \"L0_else\"; SPush 3; SJmp \"L0_end\"; SLabel \"L0_else\"; SPush 4; SLabel \"L0_end\"]"
   ]
  },
  {
   "cell_type": "code",
   "execution_count": 46,
   "metadata": {
    "vscode": {
     "languageId": "ocaml"
    }
   },
   "outputs": [
    {
     "data": {
      "text/plain": [
       "val pos : ast -> bool = <fun>\n",
       "val neg : ast -> bool = <fun>\n"
      ]
     },
     "execution_count": 46,
     "metadata": {},
     "output_type": "execute_result"
    },
    {
     "data": {
      "text/plain": [
       "- : unit = ()\n"
      ]
     },
     "execution_count": 46,
     "metadata": {},
     "output_type": "execute_result"
    },
    {
     "data": {
      "text/plain": [
       "- : unit = ()\n"
      ]
     },
     "execution_count": 46,
     "metadata": {},
     "output_type": "execute_result"
    },
    {
     "data": {
      "text/plain": [
       "- : unit = ()\n"
      ]
     },
     "execution_count": 46,
     "metadata": {},
     "output_type": "execute_result"
    },
    {
     "data": {
      "text/plain": [
       "- : unit = ()\n"
      ]
     },
     "execution_count": 46,
     "metadata": {},
     "output_type": "execute_result"
    },
    {
     "data": {
      "text/plain": [
       "- : unit = ()\n"
      ]
     },
     "execution_count": 46,
     "metadata": {},
     "output_type": "execute_result"
    },
    {
     "data": {
      "text/plain": [
       "- : unit = ()\n"
      ]
     },
     "execution_count": 46,
     "metadata": {},
     "output_type": "execute_result"
    },
    {
     "data": {
      "text/plain": [
       "- : unit = ()\n"
      ]
     },
     "execution_count": 46,
     "metadata": {},
     "output_type": "execute_result"
    },
    {
     "data": {
      "text/plain": [
       "- : unit = ()\n"
      ]
     },
     "execution_count": 46,
     "metadata": {},
     "output_type": "execute_result"
    }
   ],
   "source": [
    "let rec pos = function\n",
    "  | Num n -> n > 0\n",
    "  | Add (e1, e2) -> pos e1 && pos e2\n",
    "  | Sub (e1, e2) -> pos e1 && neg e2\n",
    "  | Mul (e1, e2) -> pos e1 && pos e2 || neg e1 && neg e2\n",
    "  | Div (e1, e2) -> pos e1 && pos e2 || neg e1 && neg e2\n",
    "  | IfNZero (b, e1, e2) -> pos e1 && pos e2\n",
    "\n",
    "and neg = function\n",
    "  | Num n -> n < 0\n",
    "  | Add (e1, e2) -> neg e1 && neg e2\n",
    "  | Sub (e1, e2) -> neg e1 && pos e2\n",
    "  | Mul (e1, e2) -> neg e1 && pos e2 || pos e1 && neg e2\n",
    "  | Div (e1, e2) -> neg e1 && pos e2 || pos e1 && neg e2\n",
    "  | IfNZero (b, e1, e2) -> neg e1 && neg e2\n",
    "\n",
    "\n",
    "let _ = assert (true  = pos (Num 1))\n",
    "let _ = assert (true  = pos (Add (Num 3, Num 1)))\n",
    "let _ = assert (false = pos (Add (Num 3, Num (-1))))\n",
    "let _ = assert (false = pos (Sub (Num 3, Num 1)))\n",
    "let _ = assert (true  = pos (Sub (Num 3, Num (-1))))\n",
    "let _ = assert (true  = pos (Mul (Num 3, Num 1)))\n",
    "let _ = assert (false = pos (Mul (Num 3, Num (-1))))\n",
    "let _ = assert (false = pos (Mul (Add (Num 3, Num (-1)), Num (-1))))"
   ]
  },
  {
   "cell_type": "code",
   "execution_count": 54,
   "metadata": {
    "vscode": {
     "languageId": "ocaml"
    }
   },
   "outputs": [
    {
     "data": {
      "text/plain": [
       "type lambda =\n",
       "    Num of int\n",
       "  | Add of lambda * lambda\n",
       "  | Var of string\n",
       "  | App of lambda * lambda\n",
       "  | Fun of string * lambda\n"
      ]
     },
     "execution_count": 54,
     "metadata": {},
     "output_type": "execute_result"
    },
    {
     "data": {
      "text/plain": [
       "val f : lambda = Fun (\"x\", Add (Var \"x\", Num 1))\n"
      ]
     },
     "execution_count": 54,
     "metadata": {},
     "output_type": "execute_result"
    },
    {
     "data": {
      "text/plain": [
       "val e : lambda = App (Fun (\"x\", Add (Var \"x\", Num 1)), Num 2)\n"
      ]
     },
     "execution_count": 54,
     "metadata": {},
     "output_type": "execute_result"
    },
    {
     "data": {
      "text/plain": [
       "type value = IntValue of int | Closure of string * lambda\n"
      ]
     },
     "execution_count": 54,
     "metadata": {},
     "output_type": "execute_result"
    },
    {
     "data": {
      "text/plain": [
       "val subst : string -> lambda -> lambda -> lambda = <fun>\n"
      ]
     },
     "execution_count": 54,
     "metadata": {},
     "output_type": "execute_result"
    },
    {
     "data": {
      "text/plain": [
       "val eval_lambda : lambda -> value = <fun>\n"
      ]
     },
     "execution_count": 54,
     "metadata": {},
     "output_type": "execute_result"
    }
   ],
   "source": [
    "type lambda = \n",
    "  | Num of int \n",
    "  | Add of lambda * lambda \n",
    "\n",
    "  | Var of string \n",
    "  | App of lambda * lambda \n",
    "  | Fun of string * lambda \n",
    "\n",
    "let f = Fun (\"x\", Add (Var \"x\", Num 1))\n",
    "let e = App (f, Num 2)\n",
    "\n",
    "type value = \n",
    "  | IntValue of int \n",
    "  | Closure of string * lambda\n",
    "\n",
    "let rec subst x e e' = \n",
    "  let rec subst' e' = \n",
    "    match e' with\n",
    "    | Num n -> Num n\n",
    "    | Add (e1, e2) -> Add (subst' e1, subst' e2)\n",
    "    | Var y -> if x = y then e else e'\n",
    "    | App (e1, e2) -> App (subst' e1, subst' e2)\n",
    "    | Fun (y, e) -> if x = y then Fun (y, e) else Fun (y, subst' e)\n",
    "  in subst' e'\n",
    "\n",
    "let rec eval_lambda = function\n",
    "  | Num n -> IntValue n\n",
    "  | Add (e1, e2) -> \n",
    "      (match eval_lambda e1, eval_lambda e2 with\n",
    "       | IntValue n1, IntValue n2 -> IntValue (n1 + n2)\n",
    "       | _ -> failwith \"Not an integer value\")\n",
    "  | Fun (x, e) -> Closure (x, e)\n",
    "  | App (e1, e2) -> \n",
    "      (match eval_lambda e1 with\n",
    "       | Closure (x, e) -> eval_lambda (subst x e2 e)\n",
    "       | _ -> failwith \"Not a function\")\n",
    "  | Var x -> failwith \"Not a value\""
   ]
  },
  {
   "cell_type": "code",
   "execution_count": 55,
   "metadata": {
    "vscode": {
     "languageId": "ocaml"
    }
   },
   "outputs": [
    {
     "data": {
      "text/plain": [
       "- : value = IntValue 3\n"
      ]
     },
     "execution_count": 55,
     "metadata": {},
     "output_type": "execute_result"
    }
   ],
   "source": [
    "eval_lambda App (Fun (\"x\", Add (Var \"x\", Num 1)), Num 2)\n",
    "  eval_lambda Fun (\"x\", Add (Var \"x\", Num 1))\n",
    "    = Closure (\"x\", Add (Var \"x\", Num 1))\n",
    "  eval_lambda Num 2\n",
    "    = IntValue 2\n",
    "\n",
    "  eval_lambda subst \"x\" (Num 2) (Add (Var \"x\", Num 1))\n",
    "    = eval_lambda (Add (Num 2, Num 1))\n",
    "    = IntValue 3\n",
    "\n",
    "= IntValue 3\n"
   ]
  }
 ],
 "metadata": {
  "kernelspec": {
   "display_name": "OCaml 4.12.0",
   "language": "OCaml",
   "name": "ocaml-jupyter"
  },
  "language_info": {
   "codemirror_mode": "text/x-ocaml",
   "file_extension": ".ml",
   "mimetype": "text/x-ocaml",
   "name": "OCaml",
   "nbconverter_exporter": null,
   "pygments_lexer": "OCaml",
   "version": "4.12.0"
  }
 },
 "nbformat": 4,
 "nbformat_minor": 2
}
