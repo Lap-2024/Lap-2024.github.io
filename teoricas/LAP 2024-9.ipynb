{
 "cells": [
  {
   "cell_type": "markdown",
   "metadata": {},
   "source": [
    "# Linguagens e Ambientes de Programação\n",
    "## (Aula Teórica 9)\n",
    "\n",
    "### Agenda\n",
    "\n",
    "- Exercícios sobre listas\n",
    "- Funções de ordem superior\n",
    "- Funções map e fold."
   ]
  },
  {
   "cell_type": "markdown",
   "metadata": {},
   "source": [
    "# Lista de exemplos \n",
    "\n",
    "1. Iterar listas de inteiros\n",
    "    1. encontrar um elemento\n",
    "    3. calcular a média dos elementos da lista\n",
    "    4. contar os elementos maiores que um valor\n",
    "    5. contar os elementos dado um critério (ordem superior)\n",
    "2. Transformar listas\n",
    "    1. projeção\n",
    "    2. filtro\n",
    "    3. Listas e pares: zip e unzip\n",
    "3. Compactar elementos\n",
    "    1. Descompactar\n",
    "4. Agrupar elementos\n",
    "    1. Desagrupar elementos\n",
    "6. merge de duas listas ordenadas\n",
    "7. merge sort "
   ]
  },
  {
   "cell_type": "markdown",
   "metadata": {},
   "source": [
    "# Iterar listas de inteiros\n",
    "\n",
    "## Encontrar um elemento"
   ]
  },
  {
   "cell_type": "code",
   "execution_count": 32,
   "metadata": {
    "vscode": {
     "languageId": "ocaml"
    }
   },
   "outputs": [
    {
     "data": {
      "text/plain": [
       "val mem : 'a -> 'a list -> bool = <fun>\n"
      ]
     },
     "execution_count": 32,
     "metadata": {},
     "output_type": "execute_result"
    }
   ],
   "source": [
    "(** [mem a l] is true if and only if a is equal to an element of list [l].\n",
    "    pre: [true]\n",
    "*)\n",
    "let rec mem x l = \n",
    "    match l with\n",
    "    | [] -> false\n",
    "    | y::ys -> if x = y then true else mem x ys"
   ]
  },
  {
   "cell_type": "code",
   "execution_count": 33,
   "metadata": {
    "vscode": {
     "languageId": "ocaml"
    }
   },
   "outputs": [
    {
     "data": {
      "text/plain": [
       "- : unit = ()\n"
      ]
     },
     "execution_count": 33,
     "metadata": {},
     "output_type": "execute_result"
    },
    {
     "data": {
      "text/plain": [
       "- : unit = ()\n"
      ]
     },
     "execution_count": 33,
     "metadata": {},
     "output_type": "execute_result"
    }
   ],
   "source": [
    "let _ = assert (mem 1 [1;2;3;4;5] = true)\n",
    "let _ = assert (mem 'a' ['a';'b';'c';'d';'e'] = true)"
   ]
  },
  {
   "cell_type": "markdown",
   "metadata": {},
   "source": [
    "## Calcular a média dos elementos da lista"
   ]
  },
  {
   "cell_type": "code",
   "execution_count": 36,
   "metadata": {
    "vscode": {
     "languageId": "ocaml"
    }
   },
   "outputs": [
    {
     "data": {
      "text/plain": [
       "val avg : int list -> int = <fun>\n"
      ]
     },
     "execution_count": 36,
     "metadata": {},
     "output_type": "execute_result"
    }
   ],
   "source": [
    "(** [avg l] is the average of the elements in list [l].\n",
    "    pre: [length l > 0] is not empty.\n",
    "    *)\n",
    "let avg l = \n",
    "    let rec sum l = \n",
    "        match l with\n",
    "        | [] -> 0\n",
    "        | x::xs -> x + sum xs\n",
    "    in\n",
    "    let rec len l = \n",
    "        match l with\n",
    "        | [] -> 0\n",
    "        | x::xs -> 1 + len xs\n",
    "    in\n",
    "    (sum l) / (len l)"
   ]
  },
  {
   "cell_type": "code",
   "execution_count": 38,
   "metadata": {
    "vscode": {
     "languageId": "ocaml"
    }
   },
   "outputs": [
    {
     "data": {
      "text/plain": [
       "val avg : int list -> int = <fun>\n"
      ]
     },
     "execution_count": 38,
     "metadata": {},
     "output_type": "execute_result"
    }
   ],
   "source": [
    "(** [avg l] is the average of the elements in list [l].\n",
    "    pre: [length l > 0] is not empty.\n",
    "    *)\n",
    "let avg l = \n",
    "  let rec sum_count l = \n",
    "    match l with\n",
    "    | [] -> (0, 0)\n",
    "    | x::xs -> \n",
    "      let (sum, count) = sum_count xs in\n",
    "      (sum + x, count + 1)\n",
    "  in \n",
    "  let (sum, count) = sum_count l in sum / count"
   ]
  },
  {
   "cell_type": "code",
   "execution_count": 50,
   "metadata": {
    "vscode": {
     "languageId": "ocaml"
    }
   },
   "outputs": [
    {
     "data": {
      "text/plain": [
       "val avg : int list -> int = <fun>\n"
      ]
     },
     "execution_count": 50,
     "metadata": {},
     "output_type": "execute_result"
    }
   ],
   "source": [
    "(** [avg l] is the average of the elements in list [l].\n",
    "    pre: [length l > 0] is not empty.\n",
    "    *)\n",
    "let avg l = \n",
    "  let rec sum_count l acc count = \n",
    "    match l with\n",
    "    | [] -> (acc, count)\n",
    "    | x::xs -> sum_count xs (acc + x) (count + 1)\n",
    "  in \n",
    "  let (sum, count) = sum_count l 0 0 in sum / count"
   ]
  },
  {
   "cell_type": "code",
   "execution_count": 54,
   "metadata": {
    "vscode": {
     "languageId": "ocaml"
    }
   },
   "outputs": [
    {
     "data": {
      "text/plain": [
       "val avg : int list -> int = <fun>\n"
      ]
     },
     "execution_count": 54,
     "metadata": {},
     "output_type": "execute_result"
    }
   ],
   "source": [
    "(** [avg l] is the average of the elements in list [l].\n",
    "    pre: [length l > 0] is not empty.\n",
    "    *)\n",
    "let avg l = \n",
    "  let (sum, count) = List.fold_left (fun (sum, count) x -> (sum + x, count + 1)) (0, 0) l\n",
    "  in sum/count"
   ]
  },
  {
   "cell_type": "code",
   "execution_count": 55,
   "metadata": {
    "vscode": {
     "languageId": "ocaml"
    }
   },
   "outputs": [
    {
     "data": {
      "text/plain": [
       "- : unit = ()\n"
      ]
     },
     "execution_count": 55,
     "metadata": {},
     "output_type": "execute_result"
    },
    {
     "data": {
      "text/plain": [
       "- : unit = ()\n"
      ]
     },
     "execution_count": 55,
     "metadata": {},
     "output_type": "execute_result"
    }
   ],
   "source": [
    "let _ = assert (avg [1;2;3;4;5] = 3)\n",
    "let _ = assert (avg [1;2;3;4;5;6;7] = 4)\n"
   ]
  },
  {
   "cell_type": "markdown",
   "metadata": {},
   "source": [
    "## Contar os elementos maiores que um valor"
   ]
  },
  {
   "cell_type": "code",
   "execution_count": 37,
   "metadata": {
    "vscode": {
     "languageId": "ocaml"
    }
   },
   "outputs": [
    {
     "data": {
      "text/plain": [
       "val count_greater_than : 'a -> 'a list -> int = <fun>\n"
      ]
     },
     "execution_count": 37,
     "metadata": {},
     "output_type": "execute_result"
    }
   ],
   "source": [
    "(** [count_greater_than x l] is the number of elements in list [l] that are greater than [x].\n",
    "    pre: [true]\n",
    "    *)\n",
    "let count_greater_than x l = \n",
    "  let rec count_greater_than n l = \n",
    "    match l with\n",
    "    | [] -> 0\n",
    "    | y::ys -> \n",
    "      if y > x then 1 + count_greater_than x ys\n",
    "      else count_greater_than x ys\n",
    "  in \n",
    "  count_greater_than x l "
   ]
  },
  {
   "cell_type": "code",
   "execution_count": 39,
   "metadata": {
    "vscode": {
     "languageId": "ocaml"
    }
   },
   "outputs": [
    {
     "data": {
      "text/plain": [
       "- : unit = ()\n"
      ]
     },
     "execution_count": 39,
     "metadata": {},
     "output_type": "execute_result"
    },
    {
     "data": {
      "text/plain": [
       "- : unit = ()\n"
      ]
     },
     "execution_count": 39,
     "metadata": {},
     "output_type": "execute_result"
    },
    {
     "data": {
      "text/plain": [
       "- : unit = ()\n"
      ]
     },
     "execution_count": 39,
     "metadata": {},
     "output_type": "execute_result"
    },
    {
     "data": {
      "text/plain": [
       "- : unit = ()\n"
      ]
     },
     "execution_count": 39,
     "metadata": {},
     "output_type": "execute_result"
    }
   ],
   "source": [
    "let _ = assert (count_greater_than 3 [1;2;3;4;5] = 2) \n",
    "let _ = assert (count_greater_than 'f' ['a';'b';'c';'d';'e';'f';'g'] = 1) \n",
    "let _ = assert (count_greater_than 3. [1.;2.;3.;4.;5.] = 2) \n",
    "let _ = assert (count_greater_than \"hello\" [\"hello\";\"world\";\"hello\";\"world\";\"hello\"] = 2)\n"
   ]
  },
  {
   "cell_type": "code",
   "execution_count": 40,
   "metadata": {
    "vscode": {
     "languageId": "ocaml"
    }
   },
   "outputs": [
    {
     "data": {
      "text/plain": [
       "val count_greater_than : 'a -> 'a list -> int = <fun>\n"
      ]
     },
     "execution_count": 40,
     "metadata": {},
     "output_type": "execute_result"
    }
   ],
   "source": [
    "(** [count_greater_than x l] is the number of elements in list [l] that are greater than [x].\n",
    "    pre: [true]\n",
    "    *)\n",
    "let count_greater_than x l = \n",
    "  List.fold_left (fun n y -> if y > x then n + 1 else n) 0 l"
   ]
  },
  {
   "cell_type": "code",
   "execution_count": 41,
   "metadata": {
    "vscode": {
     "languageId": "ocaml"
    }
   },
   "outputs": [
    {
     "data": {
      "text/plain": [
       "- : unit = ()\n"
      ]
     },
     "execution_count": 41,
     "metadata": {},
     "output_type": "execute_result"
    },
    {
     "data": {
      "text/plain": [
       "- : unit = ()\n"
      ]
     },
     "execution_count": 41,
     "metadata": {},
     "output_type": "execute_result"
    },
    {
     "data": {
      "text/plain": [
       "- : unit = ()\n"
      ]
     },
     "execution_count": 41,
     "metadata": {},
     "output_type": "execute_result"
    },
    {
     "data": {
      "text/plain": [
       "- : unit = ()\n"
      ]
     },
     "execution_count": 41,
     "metadata": {},
     "output_type": "execute_result"
    }
   ],
   "source": [
    "let _ = assert (count_greater_than 3 [1;2;3;4;5] = 2) \n",
    "let _ = assert (count_greater_than 'f' ['a';'b';'c';'d';'e';'f';'g'] = 1) \n",
    "let _ = assert (count_greater_than 3. [1.;2.;3.;4.;5.] = 2) \n",
    "let _ = assert (count_greater_than \"hello\" [\"hello\";\"world\";\"hello\";\"world\";\"hello\"] = 2)\n"
   ]
  },
  {
   "cell_type": "markdown",
   "metadata": {},
   "source": [
    "## Contar os elementos dado um critério (ordem superior)"
   ]
  },
  {
   "cell_type": "code",
   "execution_count": 42,
   "metadata": {
    "vscode": {
     "languageId": "ocaml"
    }
   },
   "outputs": [
    {
     "data": {
      "text/plain": [
       "val count_if : ('a -> bool) -> 'a list -> int = <fun>\n"
      ]
     },
     "execution_count": 42,
     "metadata": {},
     "output_type": "execute_result"
    }
   ],
   "source": [
    "(** [count_if p l] is the number of elements in list [l] that satisfy predicate [p].\n",
    "    pre: [true]\n",
    "    *)\n",
    "let rec count_if p l = \n",
    "    match l with\n",
    "    | [] -> 0\n",
    "    | x::xs -> \n",
    "      if p x then 1 + count_if p xs\n",
    "      else count_if p xs"
   ]
  },
  {
   "cell_type": "code",
   "execution_count": 45,
   "metadata": {
    "vscode": {
     "languageId": "ocaml"
    }
   },
   "outputs": [
    {
     "data": {
      "text/plain": [
       "val count_greater_than : 'a -> 'a list -> int = <fun>\n"
      ]
     },
     "execution_count": 45,
     "metadata": {},
     "output_type": "execute_result"
    },
    {
     "data": {
      "text/plain": [
       "- : unit = ()\n"
      ]
     },
     "execution_count": 45,
     "metadata": {},
     "output_type": "execute_result"
    },
    {
     "data": {
      "text/plain": [
       "- : unit = ()\n"
      ]
     },
     "execution_count": 45,
     "metadata": {},
     "output_type": "execute_result"
    },
    {
     "data": {
      "text/plain": [
       "- : unit = ()\n"
      ]
     },
     "execution_count": 45,
     "metadata": {},
     "output_type": "execute_result"
    },
    {
     "data": {
      "text/plain": [
       "- : unit = ()\n"
      ]
     },
     "execution_count": 45,
     "metadata": {},
     "output_type": "execute_result"
    }
   ],
   "source": [
    "let count_greater_than n = count_if (fun x -> x > n)\n",
    "\n",
    "let _ = assert (count_greater_than 3 [1;2;3;4;5] = 2) \n",
    "let _ = assert (count_greater_than 'f' ['a';'b';'c';'d';'e';'f';'g'] = 1) \n",
    "let _ = assert (count_greater_than 3. [1.;2.;3.;4.;5.] = 2) \n",
    "let _ = assert (count_greater_than \"hello\" [\"hello\";\"world\";\"hello\";\"world\";\"hello\"] = 2)\n"
   ]
  },
  {
   "cell_type": "code",
   "execution_count": 55,
   "metadata": {
    "vscode": {
     "languageId": "ocaml"
    }
   },
   "outputs": [
    {
     "data": {
      "text/plain": [
       "val count_less_than : 'a -> 'a list -> int = <fun>\n"
      ]
     },
     "execution_count": 55,
     "metadata": {},
     "output_type": "execute_result"
    },
    {
     "data": {
      "text/plain": [
       "- : unit = ()\n"
      ]
     },
     "execution_count": 55,
     "metadata": {},
     "output_type": "execute_result"
    },
    {
     "data": {
      "text/plain": [
       "- : unit = ()\n"
      ]
     },
     "execution_count": 55,
     "metadata": {},
     "output_type": "execute_result"
    },
    {
     "data": {
      "text/plain": [
       "- : unit = ()\n"
      ]
     },
     "execution_count": 55,
     "metadata": {},
     "output_type": "execute_result"
    },
    {
     "data": {
      "text/plain": [
       "- : unit = ()\n"
      ]
     },
     "execution_count": 55,
     "metadata": {},
     "output_type": "execute_result"
    }
   ],
   "source": [
    "let count_less_than n = count_if (fun x -> x < n)\n",
    "\n",
    "let _ = assert (count_less_than 3 [1;2;3;4;5] = 2) \n",
    "let _ = assert (count_less_than 'f' ['a';'b';'c';'d';'e';'f';'g'] = 5) \n",
    "let _ = assert (count_less_than 3. [1.;2.;3.;4.;5.] = 2) \n",
    "let _ = assert (count_less_than \"hello\" [\"hello\";\"world\";\"hello\";\"world\";\"hello\"] = 0)\n"
   ]
  },
  {
   "cell_type": "code",
   "execution_count": 59,
   "metadata": {
    "vscode": {
     "languageId": "ocaml"
    }
   },
   "outputs": [
    {
     "data": {
      "text/plain": [
       "type person = { name : string; age : int; }\n"
      ]
     },
     "execution_count": 59,
     "metadata": {},
     "output_type": "execute_result"
    },
    {
     "data": {
      "text/plain": [
       "val count_age_equal_to : int -> person list -> int = <fun>\n"
      ]
     },
     "execution_count": 59,
     "metadata": {},
     "output_type": "execute_result"
    },
    {
     "data": {
      "text/plain": [
       "- : unit = ()\n"
      ]
     },
     "execution_count": 59,
     "metadata": {},
     "output_type": "execute_result"
    },
    {
     "data": {
      "text/plain": [
       "- : unit = ()\n"
      ]
     },
     "execution_count": 59,
     "metadata": {},
     "output_type": "execute_result"
    }
   ],
   "source": [
    "type person = {name: string; age: int}\n",
    "let count_age_equal_to n = count_if (fun x -> x.age = n)\n",
    "\n",
    "let _ = assert (count_age_equal_to 3 [{name=\"a\"; age=1}; {name=\"b\"; age=2}; {name=\"c\"; age=3}; {name=\"d\"; age=4}; {name=\"e\"; age=3}] = 2)\n",
    "let _ = assert (count_age_equal_to 1 [{name=\"a\"; age=1}; {name=\"b\"; age=2}; {name=\"c\"; age=3}; {name=\"d\"; age=4}; {name=\"e\"; age=5}] = 1)"
   ]
  },
  {
   "cell_type": "code",
   "execution_count": 61,
   "metadata": {
    "vscode": {
     "languageId": "ocaml"
    }
   },
   "outputs": [
    {
     "data": {
      "text/plain": [
       "val count_if : ('a -> bool) -> 'a list -> int = <fun>\n"
      ]
     },
     "execution_count": 61,
     "metadata": {},
     "output_type": "execute_result"
    }
   ],
   "source": [
    "(** [count_if p l] is the number of elements in list [l] that satisfy predicate [p].\n",
    "    pre: [true]\n",
    "    *)\n",
    "let count_if p l = \n",
    "  List.fold_left (fun n x -> if p x then n + 1 else n) 0 l"
   ]
  },
  {
   "cell_type": "code",
   "execution_count": 62,
   "metadata": {
    "vscode": {
     "languageId": "ocaml"
    }
   },
   "outputs": [
    {
     "data": {
      "text/plain": [
       "type person = { name : string; age : int; }\n"
      ]
     },
     "execution_count": 62,
     "metadata": {},
     "output_type": "execute_result"
    },
    {
     "data": {
      "text/plain": [
       "val count_age_equal_to : int -> person list -> int = <fun>\n"
      ]
     },
     "execution_count": 62,
     "metadata": {},
     "output_type": "execute_result"
    },
    {
     "data": {
      "text/plain": [
       "- : unit = ()\n"
      ]
     },
     "execution_count": 62,
     "metadata": {},
     "output_type": "execute_result"
    },
    {
     "data": {
      "text/plain": [
       "- : unit = ()\n"
      ]
     },
     "execution_count": 62,
     "metadata": {},
     "output_type": "execute_result"
    }
   ],
   "source": [
    "type person = {name: string; age: int}\n",
    "let count_age_equal_to n = count_if (fun x -> x.age = n)\n",
    "\n",
    "let _ = assert (count_age_equal_to 3 [{name=\"a\"; age=1}; {name=\"b\"; age=2}; {name=\"c\"; age=3}; {name=\"d\"; age=4}; {name=\"e\"; age=3}] = 2)\n",
    "let _ = assert (count_age_equal_to 1 [{name=\"a\"; age=1}; {name=\"b\"; age=2}; {name=\"c\"; age=3}; {name=\"d\"; age=4}; {name=\"e\"; age=5}] = 1)"
   ]
  },
  {
   "cell_type": "markdown",
   "metadata": {},
   "source": [
    "# Transformar listas\n",
    "\n",
    "## Projeção"
   ]
  },
  {
   "cell_type": "code",
   "execution_count": 72,
   "metadata": {
    "vscode": {
     "languageId": "ocaml"
    }
   },
   "outputs": [
    {
     "data": {
      "text/plain": [
       "val project_fst : ('a * 'b) list -> 'a list = <fun>\n"
      ]
     },
     "execution_count": 72,
     "metadata": {},
     "output_type": "execute_result"
    }
   ],
   "source": [
    "(** [project_fst l] is the list of the first elements of the pairs in list [l].\n",
    "    pre: [true]\n",
    "    *)\n",
    "let rec project_fst l = \n",
    "  match l with\n",
    "  | [] -> []\n",
    "  | (x,_)::xs -> x::project_fst xs"
   ]
  },
  {
   "cell_type": "code",
   "execution_count": 76,
   "metadata": {
    "vscode": {
     "languageId": "ocaml"
    }
   },
   "outputs": [
    {
     "data": {
      "text/plain": [
       "- : unit = ()\n"
      ]
     },
     "execution_count": 76,
     "metadata": {},
     "output_type": "execute_result"
    },
    {
     "data": {
      "text/plain": [
       "- : unit = ()\n"
      ]
     },
     "execution_count": 76,
     "metadata": {},
     "output_type": "execute_result"
    }
   ],
   "source": [
    "let _ = assert (project_fst [] = [])\n",
    "let _ = assert (project_fst [(1,2);(3,4);(5,6)] = [1;3;5])"
   ]
  },
  {
   "cell_type": "code",
   "execution_count": 77,
   "metadata": {
    "vscode": {
     "languageId": "ocaml"
    }
   },
   "outputs": [
    {
     "data": {
      "text/plain": [
       "val project_fst : ('a * 'b) list -> 'a list = <fun>\n"
      ]
     },
     "execution_count": 77,
     "metadata": {},
     "output_type": "execute_result"
    }
   ],
   "source": [
    "(** [project_fst l] is the list of the first elements of the pairs in list [l].\n",
    "    pre: [true]\n",
    "    *)\n",
    "let project_fst l = \n",
    "  List.map (fun (x,_) -> x) l"
   ]
  },
  {
   "cell_type": "code",
   "execution_count": 78,
   "metadata": {
    "vscode": {
     "languageId": "ocaml"
    }
   },
   "outputs": [
    {
     "data": {
      "text/plain": [
       "- : unit = ()\n"
      ]
     },
     "execution_count": 78,
     "metadata": {},
     "output_type": "execute_result"
    },
    {
     "data": {
      "text/plain": [
       "- : unit = ()\n"
      ]
     },
     "execution_count": 78,
     "metadata": {},
     "output_type": "execute_result"
    }
   ],
   "source": [
    "let _ = assert (project_fst [] = [])\n",
    "let _ = assert (project_fst [(1,2);(3,4);(5,6)] = [1;3;5])"
   ]
  },
  {
   "cell_type": "code",
   "execution_count": 65,
   "metadata": {
    "vscode": {
     "languageId": "ocaml"
    }
   },
   "outputs": [
    {
     "data": {
      "text/plain": [
       "val project_name : person list -> string list = <fun>\n"
      ]
     },
     "execution_count": 65,
     "metadata": {},
     "output_type": "execute_result"
    }
   ],
   "source": [
    "(** [project_name l] is the list of the names of the people in list [l].\n",
    "    pre: [true]\n",
    "    *)\n",
    "let rec project_name l = \n",
    "  match l with\n",
    "  | [] -> []\n",
    "  | {name=n; age=_}::ps -> n::project_name ps"
   ]
  },
  {
   "cell_type": "code",
   "execution_count": 75,
   "metadata": {
    "vscode": {
     "languageId": "ocaml"
    }
   },
   "outputs": [
    {
     "data": {
      "text/plain": [
       "- : unit = ()\n"
      ]
     },
     "execution_count": 75,
     "metadata": {},
     "output_type": "execute_result"
    },
    {
     "data": {
      "text/plain": [
       "- : unit = ()\n"
      ]
     },
     "execution_count": 75,
     "metadata": {},
     "output_type": "execute_result"
    }
   ],
   "source": [
    "let _ = assert (project_name [] = [])\n",
    "let _ = assert (project_name [{name=\"a\"; age=1}; {name=\"b\"; age=2}; {name=\"c\"; age=3}; {name=\"d\"; age=4}; {name=\"e\"; age=5}] = [\"a\";\"b\";\"c\";\"d\";\"e\"])"
   ]
  },
  {
   "cell_type": "code",
   "execution_count": 69,
   "metadata": {
    "vscode": {
     "languageId": "ocaml"
    }
   },
   "outputs": [
    {
     "data": {
      "text/plain": [
       "val project_name : person list -> string list = <fun>\n"
      ]
     },
     "execution_count": 69,
     "metadata": {},
     "output_type": "execute_result"
    }
   ],
   "source": [
    "(** [project_name l] is the list of the names of the people in list [l].\n",
    "    pre: [true]\n",
    "    *)\n",
    "let project_name l = \n",
    "  List.map (fun x -> x.name) l"
   ]
  },
  {
   "cell_type": "code",
   "execution_count": 85,
   "metadata": {
    "vscode": {
     "languageId": "ocaml"
    }
   },
   "outputs": [
    {
     "data": {
      "text/plain": [
       "- : unit = ()\n"
      ]
     },
     "execution_count": 85,
     "metadata": {},
     "output_type": "execute_result"
    },
    {
     "data": {
      "text/plain": [
       "- : unit = ()\n"
      ]
     },
     "execution_count": 85,
     "metadata": {},
     "output_type": "execute_result"
    }
   ],
   "source": [
    "let _ = assert (project_name [] = [])\n",
    "let _ = assert (project_name [{name=\"a\"; age=1}; {name=\"b\"; age=2}; {name=\"c\"; age=3}; {name=\"d\"; age=4}; {name=\"e\"; age=5}] = [\"a\";\"b\";\"c\";\"d\";\"e\"])"
   ]
  },
  {
   "cell_type": "markdown",
   "metadata": {},
   "source": [
    "## Filtro"
   ]
  },
  {
   "cell_type": "code",
   "execution_count": 81,
   "metadata": {
    "vscode": {
     "languageId": "ocaml"
    }
   },
   "outputs": [
    {
     "data": {
      "text/plain": [
       "val filter : ('a -> bool) -> 'a list -> 'a list = <fun>\n"
      ]
     },
     "execution_count": 81,
     "metadata": {},
     "output_type": "execute_result"
    }
   ],
   "source": [
    "(** [filter l] is the list of the names of the people in list [l].\n",
    "    pre: [true]\n",
    "    *)\n",
    "let rec filter p l = \n",
    "  match l with\n",
    "  | [] -> []\n",
    "  | x::xs -> if p x then x::filter p xs else filter p xs"
   ]
  },
  {
   "cell_type": "code",
   "execution_count": 87,
   "metadata": {
    "vscode": {
     "languageId": "ocaml"
    }
   },
   "outputs": [
    {
     "data": {
      "text/plain": [
       "- : unit = ()\n"
      ]
     },
     "execution_count": 87,
     "metadata": {},
     "output_type": "execute_result"
    },
    {
     "data": {
      "text/plain": [
       "- : unit = ()\n"
      ]
     },
     "execution_count": 87,
     "metadata": {},
     "output_type": "execute_result"
    },
    {
     "data": {
      "text/plain": [
       "- : unit = ()\n"
      ]
     },
     "execution_count": 87,
     "metadata": {},
     "output_type": "execute_result"
    },
    {
     "data": {
      "text/plain": [
       "- : unit = ()\n"
      ]
     },
     "execution_count": 87,
     "metadata": {},
     "output_type": "execute_result"
    }
   ],
   "source": [
    "let _ = assert (filter (fun x -> x = \"hello\") [] = [])\n",
    "let _ = assert (filter (fun x -> x = \"hello\") [\"hello\";\"world\";\"hello\";\"world\";\"hello\"] = [\"hello\";\"hello\";\"hello\"])\n",
    "let _ = assert (filter (fun x -> x > 3) [1;2;3;4;5] = [4;5])\n",
    "let _ = assert (filter (fun x -> x < 'f') ['a';'b';'c';'d';'e';'f';'g'] = ['a';'b';'c';'d';'e'])"
   ]
  },
  {
   "cell_type": "code",
   "execution_count": 94,
   "metadata": {
    "vscode": {
     "languageId": "ocaml"
    }
   },
   "outputs": [
    {
     "data": {
      "text/plain": [
       "val filter : ('a -> bool) -> 'a list -> 'a list = <fun>\n"
      ]
     },
     "execution_count": 94,
     "metadata": {},
     "output_type": "execute_result"
    }
   ],
   "source": [
    "(** [filter l] is the list of the names of the people in list [l].\n",
    "    pre: [true]\n",
    "    *)\n",
    "let filter p l = \n",
    "  List.fold_left (fun acc x -> if p x then acc@[x] else acc) [] l"
   ]
  },
  {
   "cell_type": "code",
   "execution_count": 95,
   "metadata": {
    "vscode": {
     "languageId": "ocaml"
    }
   },
   "outputs": [
    {
     "data": {
      "text/plain": [
       "- : unit = ()\n"
      ]
     },
     "execution_count": 95,
     "metadata": {},
     "output_type": "execute_result"
    },
    {
     "data": {
      "text/plain": [
       "- : unit = ()\n"
      ]
     },
     "execution_count": 95,
     "metadata": {},
     "output_type": "execute_result"
    },
    {
     "data": {
      "text/plain": [
       "- : unit = ()\n"
      ]
     },
     "execution_count": 95,
     "metadata": {},
     "output_type": "execute_result"
    },
    {
     "data": {
      "text/plain": [
       "- : unit = ()\n"
      ]
     },
     "execution_count": 95,
     "metadata": {},
     "output_type": "execute_result"
    }
   ],
   "source": [
    "let _ = assert (filter (fun x -> x = \"hello\") [] = [])\n",
    "let _ = assert (filter (fun x -> x = \"hello\") [\"hello\";\"world\";\"hello\";\"world\";\"hello\"] = [\"hello\";\"hello\";\"hello\"])\n",
    "let _ = assert (filter (fun x -> x > 3) [1;2;3;4;5] = [4;5])\n",
    "let _ = assert (filter (fun x -> x < 'f') ['a';'b';'c';'d';'e';'f';'g'] = ['a';'b';'c';'d';'e'])"
   ]
  },
  {
   "cell_type": "code",
   "execution_count": 98,
   "metadata": {
    "vscode": {
     "languageId": "ocaml"
    }
   },
   "outputs": [
    {
     "data": {
      "text/plain": [
       "val filter : ('a -> bool) -> 'a list -> 'a list = <fun>\n"
      ]
     },
     "execution_count": 98,
     "metadata": {},
     "output_type": "execute_result"
    }
   ],
   "source": [
    "(** [filter l] is the list of the names of the people in list [l].\n",
    "    pre: [true]\n",
    "    *)\n",
    "let filter p l = \n",
    "  List.rev (List.fold_left (fun acc x -> if p x then x::acc else acc) [] l)"
   ]
  },
  {
   "cell_type": "code",
   "execution_count": 99,
   "metadata": {
    "vscode": {
     "languageId": "ocaml"
    }
   },
   "outputs": [
    {
     "data": {
      "text/plain": [
       "- : unit = ()\n"
      ]
     },
     "execution_count": 99,
     "metadata": {},
     "output_type": "execute_result"
    },
    {
     "data": {
      "text/plain": [
       "- : unit = ()\n"
      ]
     },
     "execution_count": 99,
     "metadata": {},
     "output_type": "execute_result"
    },
    {
     "data": {
      "text/plain": [
       "- : unit = ()\n"
      ]
     },
     "execution_count": 99,
     "metadata": {},
     "output_type": "execute_result"
    },
    {
     "data": {
      "text/plain": [
       "- : unit = ()\n"
      ]
     },
     "execution_count": 99,
     "metadata": {},
     "output_type": "execute_result"
    }
   ],
   "source": [
    "let _ = assert (filter (fun x -> x = \"hello\") [] = [])\n",
    "let _ = assert (filter (fun x -> x = \"hello\") [\"hello\";\"world\";\"hello\";\"world\";\"hello\"] = [\"hello\";\"hello\";\"hello\"])\n",
    "let _ = assert (filter (fun x -> x > 3) [1;2;3;4;5] = [4;5])\n",
    "let _ = assert (filter (fun x -> x < 'f') ['a';'b';'c';'d';'e';'f';'g'] = ['a';'b';'c';'d';'e'])"
   ]
  },
  {
   "cell_type": "code",
   "execution_count": 100,
   "metadata": {
    "vscode": {
     "languageId": "ocaml"
    }
   },
   "outputs": [
    {
     "data": {
      "text/plain": [
       "val filter : ('a -> bool) -> 'a list -> 'a list = <fun>\n"
      ]
     },
     "execution_count": 100,
     "metadata": {},
     "output_type": "execute_result"
    }
   ],
   "source": [
    "(** [filter l] is the list of the names of the people in list [l].\n",
    "    pre: [true]\n",
    "    *)\n",
    "let filter p l = \n",
    "  List.fold_right (fun x acc -> if p x then x::acc else acc) l []"
   ]
  },
  {
   "cell_type": "code",
   "execution_count": 101,
   "metadata": {
    "vscode": {
     "languageId": "ocaml"
    }
   },
   "outputs": [
    {
     "data": {
      "text/plain": [
       "- : unit = ()\n"
      ]
     },
     "execution_count": 101,
     "metadata": {},
     "output_type": "execute_result"
    },
    {
     "data": {
      "text/plain": [
       "- : unit = ()\n"
      ]
     },
     "execution_count": 101,
     "metadata": {},
     "output_type": "execute_result"
    },
    {
     "data": {
      "text/plain": [
       "- : unit = ()\n"
      ]
     },
     "execution_count": 101,
     "metadata": {},
     "output_type": "execute_result"
    },
    {
     "data": {
      "text/plain": [
       "- : unit = ()\n"
      ]
     },
     "execution_count": 101,
     "metadata": {},
     "output_type": "execute_result"
    }
   ],
   "source": [
    "let _ = assert (filter (fun x -> x = \"hello\") [] = [])\n",
    "let _ = assert (filter (fun x -> x = \"hello\") [\"hello\";\"world\";\"hello\";\"world\";\"hello\"] = [\"hello\";\"hello\";\"hello\"])\n",
    "let _ = assert (filter (fun x -> x > 3) [1;2;3;4;5] = [4;5])\n",
    "let _ = assert (filter (fun x -> x < 'f') ['a';'b';'c';'d';'e';'f';'g'] = ['a';'b';'c';'d';'e'])"
   ]
  },
  {
   "cell_type": "code",
   "execution_count": 108,
   "metadata": {
    "vscode": {
     "languageId": "ocaml"
    }
   },
   "outputs": [
    {
     "data": {
      "text/plain": [
       "val filter : ('a -> bool) -> 'a list -> 'a list = <fun>\n"
      ]
     },
     "execution_count": 108,
     "metadata": {},
     "output_type": "execute_result"
    }
   ],
   "source": [
    "(** [filter l] is the list of the names of the people in list [l].\n",
    "    pre: [true]\n",
    "    *)\n",
    "let filter p l = \n",
    "  List.fold_right (fun x xs -> x @ xs) (List.map (fun x -> if p x then [x] else []) l) []"
   ]
  },
  {
   "cell_type": "code",
   "execution_count": 109,
   "metadata": {
    "vscode": {
     "languageId": "ocaml"
    }
   },
   "outputs": [
    {
     "data": {
      "text/plain": [
       "- : unit = ()\n"
      ]
     },
     "execution_count": 109,
     "metadata": {},
     "output_type": "execute_result"
    },
    {
     "data": {
      "text/plain": [
       "- : unit = ()\n"
      ]
     },
     "execution_count": 109,
     "metadata": {},
     "output_type": "execute_result"
    },
    {
     "data": {
      "text/plain": [
       "- : unit = ()\n"
      ]
     },
     "execution_count": 109,
     "metadata": {},
     "output_type": "execute_result"
    },
    {
     "data": {
      "text/plain": [
       "- : unit = ()\n"
      ]
     },
     "execution_count": 109,
     "metadata": {},
     "output_type": "execute_result"
    }
   ],
   "source": [
    "let _ = assert (filter (fun x -> x = \"hello\") [] = [])\n",
    "let _ = assert (filter (fun x -> x = \"hello\") [\"hello\";\"world\";\"hello\";\"world\";\"hello\"] = [\"hello\";\"hello\";\"hello\"])\n",
    "let _ = assert (filter (fun x -> x > 3) [1;2;3;4;5] = [4;5])\n",
    "let _ = assert (filter (fun x -> x < 'f') ['a';'b';'c';'d';'e';'f';'g'] = ['a';'b';'c';'d';'e'])"
   ]
  },
  {
   "cell_type": "markdown",
   "metadata": {},
   "source": [
    "Há alguma versão melhor que outra? em que situações seria melhor usar cada uma delas? Quais os argumentos a usar?"
   ]
  },
  {
   "cell_type": "markdown",
   "metadata": {},
   "source": [
    "## Listas e pares: zip e unzip\n"
   ]
  },
  {
   "cell_type": "code",
   "execution_count": 115,
   "metadata": {
    "vscode": {
     "languageId": "ocaml"
    }
   },
   "outputs": [
    {
     "data": {
      "text/plain": [
       "val zip : 'a list -> 'b list -> ('a * 'b) list = <fun>\n"
      ]
     },
     "execution_count": 115,
     "metadata": {},
     "output_type": "execute_result"
    }
   ],
   "source": [
    "(** [zip l1 l2] is the list of pairs of elements from lists [l1] and [l2].\n",
    "    pre: [length l1 = length l2]\n",
    "    *)\n",
    "let zip l1 l2 = \n",
    "  match l1, l2 with\n",
    "  | [], [] -> []\n",
    "  | x::xs, y::ys -> (x,y)::zip xs ys\n",
    "  | _, _ -> failwith \"zip: lists have different lengths\""
   ]
  },
  {
   "cell_type": "code",
   "execution_count": 116,
   "metadata": {
    "vscode": {
     "languageId": "ocaml"
    }
   },
   "outputs": [
    {
     "data": {
      "text/plain": [
       "- : unit = ()\n"
      ]
     },
     "execution_count": 116,
     "metadata": {},
     "output_type": "execute_result"
    }
   ],
   "source": [
    "let _ = assert (zip [1;2;3] ['a';'b';'c'] = [(1,'a');(2,'b');(3,'c')])"
   ]
  },
  {
   "cell_type": "code",
   "execution_count": 121,
   "metadata": {
    "vscode": {
     "languageId": "ocaml"
    }
   },
   "outputs": [
    {
     "data": {
      "text/plain": [
       "val map2 : ('a -> 'b -> 'a * 'b) -> 'a list -> 'b list -> ('a * 'b) list =\n",
       "  <fun>\n"
      ]
     },
     "execution_count": 121,
     "metadata": {},
     "output_type": "execute_result"
    }
   ],
   "source": [
    "let map2 f l1 l2 = \n",
    "    match l1, l2 with\n",
    "  | [], [] -> []\n",
    "  | x::xs, y::ys -> f x y::zip xs ys\n",
    "  | _, _ -> failwith \"zip: lists have different lengths\""
   ]
  },
  {
   "cell_type": "code",
   "execution_count": 122,
   "metadata": {
    "vscode": {
     "languageId": "ocaml"
    }
   },
   "outputs": [
    {
     "data": {
      "text/plain": [
       "val zip : 'a list -> 'b list -> ('a * 'b) list = <fun>\n"
      ]
     },
     "execution_count": 122,
     "metadata": {},
     "output_type": "execute_result"
    }
   ],
   "source": [
    "(** [zip l1 l2] is the list of pairs of elements from lists [l1] and [l2].\n",
    "    pre: [length l1 = length l2]\n",
    "    *)\n",
    "let zip l1 l2 = \n",
    "  map2 (fun x y -> (x,y)) l1 l2"
   ]
  },
  {
   "cell_type": "code",
   "execution_count": 123,
   "metadata": {
    "vscode": {
     "languageId": "ocaml"
    }
   },
   "outputs": [
    {
     "data": {
      "text/plain": [
       "- : unit = ()\n"
      ]
     },
     "execution_count": 123,
     "metadata": {},
     "output_type": "execute_result"
    }
   ],
   "source": [
    "let _ = assert (zip [1;2;3] ['a';'b';'c'] = [(1,'a');(2,'b');(3,'c')])"
   ]
  },
  {
   "cell_type": "code",
   "execution_count": 124,
   "metadata": {
    "vscode": {
     "languageId": "ocaml"
    }
   },
   "outputs": [
    {
     "data": {
      "text/plain": [
       "val unzip : ('a * 'b) list -> 'a list * 'b list = <fun>\n"
      ]
     },
     "execution_count": 124,
     "metadata": {},
     "output_type": "execute_result"
    }
   ],
   "source": [
    "(** [unzip l] is the pair of lists of the first and second elements of the pairs in list [l].\n",
    "    pre: [true]\n",
    "    *)\n",
    "let rec unzip l =\n",
    "  match l with\n",
    "  | [] -> ([], [])\n",
    "  | (x,y)::xs -> \n",
    "    let (xs, ys) = unzip xs in\n",
    "    (x::xs, y::ys)"
   ]
  },
  {
   "cell_type": "code",
   "execution_count": 126,
   "metadata": {
    "vscode": {
     "languageId": "ocaml"
    }
   },
   "outputs": [
    {
     "data": {
      "text/plain": [
       "- : unit = ()\n"
      ]
     },
     "execution_count": 126,
     "metadata": {},
     "output_type": "execute_result"
    },
    {
     "data": {
      "text/plain": [
       "- : unit = ()\n"
      ]
     },
     "execution_count": 126,
     "metadata": {},
     "output_type": "execute_result"
    }
   ],
   "source": [
    "let _ = assert (unzip [] = ([], []))\n",
    "let _ = assert (unzip [(1,'a');(2,'b');(3,'c')] = ([1;2;3], ['a';'b';'c']))"
   ]
  },
  {
   "cell_type": "code",
   "execution_count": 128,
   "metadata": {
    "vscode": {
     "languageId": "ocaml"
    }
   },
   "outputs": [
    {
     "data": {
      "text/plain": [
       "val unzip : ('a * 'b) list -> 'a list * 'b list = <fun>\n"
      ]
     },
     "execution_count": 128,
     "metadata": {},
     "output_type": "execute_result"
    }
   ],
   "source": [
    "(** [unzip l] is the pair of lists of the first and second elements of the pairs in list [l].\n",
    "    pre: [true]\n",
    "    *)\n",
    "let rec unzip l =\n",
    "  List.fold_right (fun (x,y) (xs, ys) -> (x::xs, y::ys)) l ([], [])"
   ]
  },
  {
   "cell_type": "code",
   "execution_count": 136,
   "metadata": {
    "vscode": {
     "languageId": "ocaml"
    }
   },
   "outputs": [
    {
     "data": {
      "text/plain": [
       "- : unit = ()\n"
      ]
     },
     "execution_count": 136,
     "metadata": {},
     "output_type": "execute_result"
    },
    {
     "data": {
      "text/plain": [
       "- : unit = ()\n"
      ]
     },
     "execution_count": 136,
     "metadata": {},
     "output_type": "execute_result"
    },
    {
     "data": {
      "text/plain": [
       "- : unit = ()\n"
      ]
     },
     "execution_count": 136,
     "metadata": {},
     "output_type": "execute_result"
    }
   ],
   "source": [
    "let _ = assert (unzip [] = ([], []))\n",
    "let _ = assert (unzip [(1,'a');(2,'b');(3,'c')] = ([1;2;3], ['a';'b';'c']))\n",
    "let _ = assert (unzip (zip [1;2;3] ['a';'b';'c']) = ([1;2;3], ['a';'b';'c']))\n",
    "\n"
   ]
  },
  {
   "cell_type": "markdown",
   "metadata": {},
   "source": [
    "# Compactar elementos"
   ]
  },
  {
   "cell_type": "code",
   "execution_count": 149,
   "metadata": {
    "vscode": {
     "languageId": "ocaml"
    }
   },
   "outputs": [
    {
     "data": {
      "text/plain": [
       "val count_by_group : 'a list -> ('a * int) list = <fun>\n"
      ]
     },
     "execution_count": 149,
     "metadata": {},
     "output_type": "execute_result"
    }
   ],
   "source": [
    "(** [count_by_group l] is the list of pairs of elements that contain the number of times an element appears in a sequence [l].\n",
    "    pre: [true]\n",
    "    *)\n",
    "let rec count_by_group l = \n",
    "  match l with \n",
    "  | [] -> []\n",
    "  | x::xs -> \n",
    "    let tail = count_by_group xs in\n",
    "    begin match tail with\n",
    "    | [] -> [(x, 1)]\n",
    "    | (g, n)::gs -> if g = x then (g, n+1)::gs else (x, 1)::tail\n",
    "  end\n"
   ]
  },
  {
   "cell_type": "code",
   "execution_count": 150,
   "metadata": {
    "vscode": {
     "languageId": "ocaml"
    }
   },
   "outputs": [
    {
     "data": {
      "text/plain": [
       "- : unit = ()\n"
      ]
     },
     "execution_count": 150,
     "metadata": {},
     "output_type": "execute_result"
    }
   ],
   "source": [
    "let _ = assert (count_by_group [\"a\"; \"a\"; \"b\"; \"c\"; \"c\"; \"c\"; \"d\"; \"e\"; \"e\"; \"f\"; \"f\"; \"f\"; \"f\"; \"g\"; \"h\"; \"i\"; \"i\"; \"i\"; \"i\"; \"i\"] = [(\"a\", 2); (\"b\", 1); (\"c\", 3); (\"d\", 1); (\"e\", 2); (\"f\", 4); (\"g\", 1); (\"h\", 1); (\"i\", 5)])"
   ]
  },
  {
   "cell_type": "code",
   "execution_count": 146,
   "metadata": {
    "vscode": {
     "languageId": "ocaml"
    }
   },
   "outputs": [
    {
     "data": {
      "text/plain": [
       "val count_by_group : 'a list -> ('a * int) list = <fun>\n"
      ]
     },
     "execution_count": 146,
     "metadata": {},
     "output_type": "execute_result"
    }
   ],
   "source": [
    "(** [count_by_group l] is the list of pairs of elements that contain the number of times an element appears in a sequence [l].\n",
    "    pre: [true]\n",
    "    *)\n",
    "let count_by_group l = \n",
    "  let rec f x acc = \n",
    "    match acc with \n",
    "    | [] -> [(x, 1)]\n",
    "    | (g, n)::gs -> if x = g then (g,n+1)::gs else (x,1)::acc\n",
    "in List.fold_right f l []"
   ]
  },
  {
   "cell_type": "code",
   "execution_count": 167,
   "metadata": {
    "vscode": {
     "languageId": "ocaml"
    }
   },
   "outputs": [
    {
     "data": {
      "text/plain": [
       "- : unit = ()\n"
      ]
     },
     "execution_count": 167,
     "metadata": {},
     "output_type": "execute_result"
    }
   ],
   "source": [
    "let _ = assert (count_by_group [\"a\"; \"a\"; \"b\"; \"c\"; \"c\"; \"c\"; \"d\"; \"e\"; \"e\"; \"f\"; \"f\"; \"f\"; \"f\"; \"g\"; \"h\"; \"i\"; \"i\"; \"i\"; \"i\"; \"i\"] = [(\"a\", 2); (\"b\", 1); (\"c\", 3); (\"d\", 1); (\"e\", 2); (\"f\", 4); (\"g\", 1); (\"h\", 1); (\"i\", 5)])"
   ]
  },
  {
   "cell_type": "code",
   "execution_count": 178,
   "metadata": {
    "vscode": {
     "languageId": "ocaml"
    }
   },
   "outputs": [
    {
     "data": {
      "text/plain": [
       "val expand_groups : ('a * int) list -> 'a list = <fun>\n"
      ]
     },
     "execution_count": 178,
     "metadata": {},
     "output_type": "execute_result"
    }
   ],
   "source": [
    "let rec expand_groups l = \n",
    "  match l with \n",
    "  | [] -> []\n",
    "  | (x, n)::xs -> \n",
    "    if n = 1 then x::expand_groups xs\n",
    "    else x::expand_groups ((x, n-1)::xs)"
   ]
  },
  {
   "cell_type": "code",
   "execution_count": 186,
   "metadata": {
    "vscode": {
     "languageId": "ocaml"
    }
   },
   "outputs": [
    {
     "data": {
      "text/plain": [
       "- : unit = ()\n"
      ]
     },
     "execution_count": 186,
     "metadata": {},
     "output_type": "execute_result"
    },
    {
     "data": {
      "text/plain": [
       "- : unit = ()\n"
      ]
     },
     "execution_count": 186,
     "metadata": {},
     "output_type": "execute_result"
    }
   ],
   "source": [
    "let _ = assert (expand_groups [(\"a\", 2); (\"b\", 1); (\"c\", 3); (\"d\", 1); (\"e\", 2); (\"f\", 4); (\"g\", 1); (\"h\", 1); (\"i\", 5)] =  [\"a\"; \"a\"; \"b\"; \"c\"; \"c\"; \"c\"; \"d\"; \"e\"; \"e\"; \"f\"; \"f\"; \"f\"; \"f\"; \"g\"; \"h\"; \"i\"; \"i\"; \"i\"; \"i\"; \"i\"]);;\n",
    "\n",
    "let l = [\"a\"; \"a\"; \"b\"; \"c\"; \"c\"; \"c\"; \"d\"; \"e\"; \"e\"; \"f\"; \"f\"; \"f\"; \"f\"; \"g\"; \"h\"; \"i\"; \"i\"; \"i\"; \"i\"; \"i\"] in assert (expand_groups (count_by_group l) = l)"
   ]
  },
  {
   "cell_type": "markdown",
   "metadata": {},
   "source": [
    "## Agrupar elementos"
   ]
  },
  {
   "cell_type": "code",
   "execution_count": 163,
   "metadata": {
    "vscode": {
     "languageId": "ocaml"
    }
   },
   "outputs": [
    {
     "data": {
      "text/plain": [
       "val group_by : 'a list -> 'a list list = <fun>\n"
      ]
     },
     "execution_count": 163,
     "metadata": {},
     "output_type": "execute_result"
    }
   ],
   "source": [
    "let rec group_by l = \n",
    "  match l with \n",
    "  | [] -> []\n",
    "  | x::xs -> \n",
    "    let gs = group_by xs in\n",
    "    begin match gs with\n",
    "    | [] -> [[x]]\n",
    "    | g::gs -> \n",
    "      begin match g with \n",
    "      | [] -> assert false (* cannot be empty*) \n",
    "      | y::_ -> if y = x then (x::g)::gs else [x]::g::gs\n",
    "      end\n",
    "    end\n"
   ]
  },
  {
   "cell_type": "code",
   "execution_count": 164,
   "metadata": {
    "vscode": {
     "languageId": "ocaml"
    }
   },
   "outputs": [
    {
     "data": {
      "text/plain": [
       "- : unit = ()\n"
      ]
     },
     "execution_count": 164,
     "metadata": {},
     "output_type": "execute_result"
    }
   ],
   "source": [
    "let _ = assert (group_by [1; 1; 2; 3; 3; 3; 4; 5; 5; 6; 6; 6; 6; 7; 8; 9; 9; 9; 9; 9] = [[1; 1]; [2]; [3; 3; 3]; [4]; [5; 5]; [6; 6; 6; 6]; [7]; [8]; [9; 9; 9; 9; 9]])"
   ]
  },
  {
   "cell_type": "code",
   "execution_count": 165,
   "metadata": {
    "vscode": {
     "languageId": "ocaml"
    }
   },
   "outputs": [
    {
     "data": {
      "text/plain": [
       "val group_by : 'a list -> 'a list list = <fun>\n"
      ]
     },
     "execution_count": 165,
     "metadata": {},
     "output_type": "execute_result"
    }
   ],
   "source": [
    "let group_by l = \n",
    "  let rec f x acc = \n",
    "    match acc with \n",
    "    | [] -> [[ x ]]\n",
    "    | g::gs -> \n",
    "      begin match g with \n",
    "      | [] -> assert false (* all lists have elements, see above *)\n",
    "      | y::ys -> if x = y then (x::y::ys)::gs else [ x ]::acc\n",
    "      end\n",
    "  in List.fold_right f l []"
   ]
  },
  {
   "cell_type": "code",
   "execution_count": 188,
   "metadata": {
    "vscode": {
     "languageId": "ocaml"
    }
   },
   "outputs": [
    {
     "data": {
      "text/plain": [
       "- : unit = ()\n"
      ]
     },
     "execution_count": 188,
     "metadata": {},
     "output_type": "execute_result"
    }
   ],
   "source": [
    "let _ = assert (group_by [1; 1; 2; 3; 3; 3; 4; 5; 5; 6; 6; 6; 6; 7; 8; 9; 9; 9; 9; 9] = [[1; 1]; [2]; [3; 3; 3]; [4]; [5; 5]; [6; 6; 6; 6]; [7]; [8]; [9; 9; 9; 9; 9]])"
   ]
  },
  {
   "cell_type": "markdown",
   "metadata": {},
   "source": [
    "# Desagrupar elementos"
   ]
  },
  {
   "cell_type": "code",
   "execution_count": 193,
   "metadata": {
    "vscode": {
     "languageId": "ocaml"
    }
   },
   "outputs": [
    {
     "data": {
      "text/plain": [
       "val ungroup : 'a list list -> 'a list = <fun>\n"
      ]
     },
     "execution_count": 193,
     "metadata": {},
     "output_type": "execute_result"
    }
   ],
   "source": [
    "let ungroup l =   \n",
    "  match l with \n",
    "  | [] -> []\n",
    "  | []::gs -> ungroup gs\n",
    "  | (x::xs)::gs -> x::ungroup (xs::gs)\n"
   ]
  },
  {
   "cell_type": "code",
   "execution_count": 195,
   "metadata": {
    "vscode": {
     "languageId": "ocaml"
    }
   },
   "outputs": [
    {
     "data": {
      "text/plain": [
       "- : unit = ()\n"
      ]
     },
     "execution_count": 195,
     "metadata": {},
     "output_type": "execute_result"
    }
   ],
   "source": [
    "let l = [1; 1; 2; 3; 3; 3; 4; 5; 5; 6; 6; 6; 6; 7; 8; 9; 9; 9; 9; 9] in assert (ungroup (group_by l) = l)\n"
   ]
  },
  {
   "cell_type": "code",
   "execution_count": 199,
   "metadata": {
    "vscode": {
     "languageId": "ocaml"
    }
   },
   "outputs": [
    {
     "data": {
      "text/plain": [
       "val ungroup : 'a list list -> 'a list = <fun>\n"
      ]
     },
     "execution_count": 199,
     "metadata": {},
     "output_type": "execute_result"
    }
   ],
   "source": [
    "let ungroup xs = List.concat xs"
   ]
  },
  {
   "cell_type": "code",
   "execution_count": 200,
   "metadata": {
    "vscode": {
     "languageId": "ocaml"
    }
   },
   "outputs": [
    {
     "data": {
      "text/plain": [
       "- : unit = ()\n"
      ]
     },
     "execution_count": 200,
     "metadata": {},
     "output_type": "execute_result"
    }
   ],
   "source": [
    "let l = [1; 1; 2; 3; 3; 3; 4; 5; 5; 6; 6; 6; 6; 7; 8; 9; 9; 9; 9; 9] in assert (ungroup (group_by l) = l)\n"
   ]
  },
  {
   "cell_type": "markdown",
   "metadata": {},
   "source": [
    "\n",
    "# merge de duas listas ordenadas\n",
    "# merge sort "
   ]
  }
 ],
 "metadata": {
  "kernelspec": {
   "display_name": "OCaml 4.12.0",
   "language": "OCaml",
   "name": "ocaml-jupyter"
  },
  "language_info": {
   "codemirror_mode": "text/x-ocaml",
   "file_extension": ".ml",
   "mimetype": "text/x-ocaml",
   "name": "OCaml",
   "nbconverter_exporter": null,
   "pygments_lexer": "OCaml",
   "version": "4.12.0"
  }
 },
 "nbformat": 4,
 "nbformat_minor": 2
}
