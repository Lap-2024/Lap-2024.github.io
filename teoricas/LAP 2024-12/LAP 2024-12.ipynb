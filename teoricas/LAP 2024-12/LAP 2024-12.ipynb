{
 "cells": [
  {
   "cell_type": "code",
   "execution_count": 8,
   "metadata": {
    "vscode": {
     "languageId": "ocaml"
    }
   },
   "outputs": [
    {
     "data": {
      "text/plain": [
       "module MyList :\n",
       "  sig\n",
       "    type 'a list = Nil | Cons of 'a * 'a list\n",
       "    val empty : 'a list\n",
       "    val length : 'a list -> int\n",
       "    val insert : 'a -> 'a list -> 'a list\n",
       "    val head : 'a list -> 'a option\n",
       "    val tail : 'a list -> 'a list option\n",
       "  end\n"
      ]
     },
     "execution_count": 8,
     "metadata": {},
     "output_type": "execute_result"
    }
   ],
   "source": [
    "module MyList = struct\n",
    "type 'a list = Nil | Cons of 'a * 'a list\n",
    "let empty = Nil\n",
    "let rec length = function\n",
    "  | Nil -> 0\n",
    "  | Cons (_, xs) -> 1 + length xs\n",
    "let insert x xs = Cons (x, xs)\n",
    "let head = function\n",
    "  | Nil -> None\n",
    "  | Cons (x, _) -> Some x\n",
    "let tail = function\n",
    "  | Nil -> None\n",
    "  | Cons (_, xs) -> Some xs\n",
    "end"
   ]
  },
  {
   "cell_type": "code",
   "execution_count": 9,
   "metadata": {
    "vscode": {
     "languageId": "ocaml"
    }
   },
   "outputs": [
    {
     "data": {
      "text/plain": [
       "module type Stack =\n",
       "  sig\n",
       "    type 'a stack\n",
       "    val empty : 'a stack\n",
       "    val push : 'a -> 'a stack -> 'a stack\n",
       "    val pop : 'a stack -> 'a stack option\n",
       "    val top : 'a stack -> 'a option\n",
       "  end\n"
      ]
     },
     "execution_count": 9,
     "metadata": {},
     "output_type": "execute_result"
    },
    {
     "data": {
      "text/plain": [
       "module MyStack : Stack\n"
      ]
     },
     "execution_count": 9,
     "metadata": {},
     "output_type": "execute_result"
    },
    {
     "data": {
      "text/plain": [
       "module AnotherStack : Stack\n"
      ]
     },
     "execution_count": 9,
     "metadata": {},
     "output_type": "execute_result"
    }
   ],
   "source": [
    "module type Stack = sig\n",
    "  type 'a stack\n",
    "  val empty : 'a stack\n",
    "  val push : 'a -> 'a stack -> 'a stack\n",
    "  val pop : 'a stack -> 'a stack option\n",
    "  val top : 'a stack -> 'a option\n",
    "end\n",
    "\n",
    "module MyStack:Stack = struct\n",
    "  type 'a stack = 'a MyList.list\n",
    "  let empty = MyList.empty\n",
    "  let push x xs = MyList.insert x xs\n",
    "  let pop = MyList.tail\n",
    "  let top = MyList.head\n",
    "end\n",
    "\n",
    "module AnotherStack : Stack = struct\n",
    "  type 'a stack = 'a list\n",
    "  let empty = []\n",
    "  let push x xs = x :: xs\n",
    "  let pop = function\n",
    "    | [] -> None\n",
    "    | _ :: xs -> Some xs\n",
    "  let top = function\n",
    "    | [] -> None\n",
    "    | x :: _ -> Some x\n",
    "end"
   ]
  },
  {
   "cell_type": "code",
   "execution_count": 10,
   "metadata": {
    "vscode": {
     "languageId": "ocaml"
    }
   },
   "outputs": [
    {
     "data": {
      "text/plain": [
       "module MyStack :\n",
       "  sig\n",
       "    type 'a stack = 'a MyList.list\n",
       "    val empty : 'a MyList.list\n",
       "    val push : 'a -> 'a MyList.list -> 'a MyList.list\n",
       "    val pop : 'a MyList.list -> 'a MyList.list option\n",
       "    val top : 'a MyList.list -> 'a option\n",
       "  end\n"
      ]
     },
     "execution_count": 10,
     "metadata": {},
     "output_type": "execute_result"
    }
   ],
   "source": [
    "module MyStack = struct\n",
    "  type 'a stack = 'a MyList.list\n",
    "  let empty = MyList.empty\n",
    "  let push x xs = MyList.insert x xs\n",
    "  let pop = MyList.tail\n",
    "  let top = MyList.head\n",
    "end"
   ]
  },
  {
   "cell_type": "code",
   "execution_count": 11,
   "metadata": {
    "vscode": {
     "languageId": "ocaml"
    }
   },
   "outputs": [
    {
     "data": {
      "text/plain": [
       "module MyStack :\n",
       "  sig\n",
       "    type 'a stack = 'a MyList.list\n",
       "    val empty : 'a MyList.list\n",
       "    val push : 'a -> 'a MyList.list -> 'a MyList.list\n",
       "    val pop : 'a MyList.list -> 'a MyList.list option\n",
       "    val top : 'a MyList.list -> 'a option\n",
       "  end\n"
      ]
     },
     "execution_count": 11,
     "metadata": {},
     "output_type": "execute_result"
    }
   ],
   "source": [
    "module MyStack = struct\n",
    "  open MyList\n",
    "\n",
    "  type 'a stack = 'a list\n",
    "  let empty = empty\n",
    "  let push x xs = insert x xs\n",
    "  let pop = tail\n",
    "  let top = head\n",
    "end"
   ]
  },
  {
   "cell_type": "code",
   "execution_count": 12,
   "metadata": {
    "vscode": {
     "languageId": "ocaml"
    }
   },
   "outputs": [
    {
     "data": {
      "text/plain": [
       "module M : sig module N : sig val x : int end end\n"
      ]
     },
     "execution_count": 12,
     "metadata": {},
     "output_type": "execute_result"
    },
    {
     "data": {
      "text/plain": [
       "val x : int = 1\n"
      ]
     },
     "execution_count": 12,
     "metadata": {},
     "output_type": "execute_result"
    }
   ],
   "source": [
    "module M = struct\n",
    "  module N = struct\n",
    "    let x = 1\n",
    "  end\n",
    "end\n",
    "\n",
    "let x = M.N.x"
   ]
  },
  {
   "cell_type": "code",
   "execution_count": 13,
   "metadata": {
    "vscode": {
     "languageId": "ocaml"
    }
   },
   "outputs": [
    {
     "data": {
      "text/plain": [
       "module M : sig end\n"
      ]
     },
     "execution_count": 13,
     "metadata": {},
     "output_type": "execute_result"
    }
   ],
   "source": [
    "module M = struct end"
   ]
  },
  {
   "cell_type": "code",
   "execution_count": 24,
   "metadata": {
    "vscode": {
     "languageId": "ocaml"
    }
   },
   "outputs": [
    {
     "data": {
      "text/plain": [
       "module IntStack :\n",
       "  sig\n",
       "    type stack\n",
       "    val empty : stack\n",
       "    val push : int -> stack -> stack\n",
       "    val pop : stack -> stack option\n",
       "    val top : stack -> int option\n",
       "  end\n"
      ]
     },
     "execution_count": 24,
     "metadata": {},
     "output_type": "execute_result"
    }
   ],
   "source": [
    "module IntStack = (struct \n",
    "  type stack = int MyStack.stack\n",
    "  let empty = MyStack.empty\n",
    "  let push = MyStack.push\n",
    "  let pop = MyStack.pop\n",
    "  let top = MyStack.top\n",
    "end : sig \n",
    "  type stack \n",
    "  val empty : stack\n",
    "  val push : int -> stack -> stack\n",
    "  val pop : stack -> stack option\n",
    "  val top : stack -> int option\n",
    "end)\n"
   ]
  },
  {
   "cell_type": "code",
   "execution_count": 60,
   "metadata": {
    "vscode": {
     "languageId": "ocaml"
    }
   },
   "outputs": [
    {
     "data": {
      "text/plain": [
       "module type Stack =\n",
       "  sig\n",
       "    type t\n",
       "    type stack\n",
       "    val empty : stack\n",
       "    val push : t -> stack -> stack\n",
       "    val pop : stack -> stack option\n",
       "    val top : stack -> t option\n",
       "  end\n"
      ]
     },
     "execution_count": 60,
     "metadata": {},
     "output_type": "execute_result"
    },
    {
     "ename": "error",
     "evalue": "compile_error",
     "output_type": "error",
     "traceback": [
      "File \"[60]\", line 11, characters 15-16:\n11 |   type stack = t list\n                    ^\nError: Unbound type constructor t\n"
     ]
    }
   ],
   "source": [
    "module type Stack = sig\n",
    "  type t\n",
    "  type stack\n",
    "  val empty : stack\n",
    "  val push : t -> stack -> stack\n",
    "  val pop : stack -> stack option\n",
    "  val top : stack -> t option\n",
    "end\n",
    "\n",
    "module MyIntStack : Stack = struct\n",
    "  type stack = t list\n",
    "  let empty = []\n",
    "  let push x xs = x :: xs\n",
    "  let pop = function\n",
    "    | [] -> None\n",
    "    | _ :: xs -> Some xs\n",
    "  let top = function\n",
    "    | [] -> None\n",
    "    | x :: _ -> Some x\n",
    "end\n",
    "\n",
    "module type IntStack = Stack with type t = int\n"
   ]
  },
  {
   "cell_type": "code",
   "execution_count": 72,
   "metadata": {
    "vscode": {
     "languageId": "ocaml"
    }
   },
   "outputs": [
    {
     "data": {
      "text/plain": [
       "module type X = sig type t end\n"
      ]
     },
     "execution_count": 72,
     "metadata": {},
     "output_type": "execute_result"
    },
    {
     "data": {
      "text/plain": [
       "module Stack :\n",
       "  sig\n",
       "    module Make :\n",
       "      functor (M : X) ->\n",
       "        sig\n",
       "          type stack = M.t list\n",
       "          val empty : 'a list\n",
       "          val push : 'a -> 'a list -> 'a list\n",
       "          val pop : 'a list -> 'a list option\n",
       "          val top : 'a list -> 'a option\n",
       "        end\n",
       "  end\n"
      ]
     },
     "execution_count": 72,
     "metadata": {},
     "output_type": "execute_result"
    },
    {
     "data": {
      "text/plain": [
       "module IntStack :\n",
       "  sig\n",
       "    type stack = int list\n",
       "    val empty : 'a list\n",
       "    val push : 'a -> 'a list -> 'a list\n",
       "    val pop : 'a list -> 'a list option\n",
       "    val top : 'a list -> 'a option\n",
       "  end\n"
      ]
     },
     "execution_count": 72,
     "metadata": {},
     "output_type": "execute_result"
    },
    {
     "data": {
      "text/plain": [
       "val s : 'a list = []\n"
      ]
     },
     "execution_count": 72,
     "metadata": {},
     "output_type": "execute_result"
    },
    {
     "data": {
      "text/plain": [
       "- : unit = ()\n"
      ]
     },
     "execution_count": 72,
     "metadata": {},
     "output_type": "execute_result"
    },
    {
     "data": {
      "text/plain": [
       "- : unit = ()\n"
      ]
     },
     "execution_count": 72,
     "metadata": {},
     "output_type": "execute_result"
    },
    {
     "data": {
      "text/plain": [
       "- : unit = ()\n"
      ]
     },
     "execution_count": 72,
     "metadata": {},
     "output_type": "execute_result"
    }
   ],
   "source": [
    "module type X = sig\n",
    "  type t\n",
    "end\n",
    "\n",
    "module Stack = struct\n",
    "  module Make (M : X) = struct\n",
    "    type stack = M.t list\n",
    "    let empty = []\n",
    "    let push x xs = x :: xs\n",
    "    let pop = function\n",
    "      | [] -> None\n",
    "      | _ :: xs -> Some xs\n",
    "    let top = function\n",
    "      | [] -> None\n",
    "      | x :: _ -> Some x\n",
    "  end\n",
    "end\n",
    "\n",
    "module IntStack = Stack.Make (struct type t = int end)\n",
    "\n",
    "let s = IntStack.empty\n",
    "let _ = assert (IntStack.top s = None)\n",
    "let _ = assert (IntStack.top (IntStack.push 1 s) = Some (1))\n",
    "let _ = assert (IntStack.pop (IntStack.push 1 s) = Some (IntStack.empty))"
   ]
  },
  {
   "cell_type": "code",
   "execution_count": 83,
   "metadata": {
    "vscode": {
     "languageId": "ocaml"
    }
   },
   "outputs": [
    {
     "data": {
      "text/plain": [
       "module Pair :\n",
       "  sig type t = int * string val compare : 'a * 'b -> 'a * 'b -> int end\n"
      ]
     },
     "execution_count": 83,
     "metadata": {},
     "output_type": "execute_result"
    },
    {
     "data": {
      "text/plain": [
       "module Str :\n",
       "  sig\n",
       "    type elt = Pair.t\n",
       "    type t = Set.Make(Pair).t\n",
       "    val empty : t\n",
       "    val is_empty : t -> bool\n",
       "    val mem : elt -> t -> bool\n",
       "    val add : elt -> t -> t\n",
       "    val singleton : elt -> t\n",
       "    val remove : elt -> t -> t\n",
       "    val union : t -> t -> t\n",
       "    val inter : t -> t -> t\n",
       "    val disjoint : t -> t -> bool\n",
       "    val diff : t -> t -> t\n",
       "    val compare : t -> t -> int\n",
       "    val equal : t -> t -> bool\n",
       "    val subset : t -> t -> bool\n",
       "    val iter : (elt -> unit) -> t -> unit\n",
       "    val map : (elt -> elt) -> t -> t\n",
       "    val fold : (elt -> 'a -> 'a) -> t -> 'a -> 'a\n",
       "    val for_all : (elt -> bool) -> t -> bool\n",
       "    val exists : (elt -> bool) -> t -> bool\n",
       "    val filter : (elt -> bool) -> t -> t\n",
       "    val filter_map : (elt -> elt option) -> t -> t\n",
       "    val partition : (elt -> bool) -> t -> t * t\n",
       "    val cardinal : t -> int\n",
       "    val elements : t -> elt list\n",
       "    val min_elt : t -> elt\n",
       "    val min_elt_opt : t -> elt option\n",
       "    val max_elt : t -> elt\n",
       "    val max_elt_opt : t -> elt option\n",
       "    val choose : t -> elt\n",
       "    val choose_opt : t -> elt option\n",
       "    val split : elt -> t -> t * bool * t\n",
       "    val find : elt -> t -> elt\n",
       "    val find_opt : elt -> t -> elt option\n",
       "    val find_first : (elt -> bool) -> t -> elt\n",
       "    val find_first_opt : (elt -> bool) -> t -> elt option\n",
       "    val find_last : (elt -> bool) -> t -> elt\n",
       "    val find_last_opt : (elt -> bool) -> t -> elt option\n",
       "    val of_list : elt list -> t\n",
       "    val to_seq_from : elt -> t -> elt Seq.t\n",
       "    val to_seq : t -> elt Seq.t\n",
       "    val to_rev_seq : t -> elt Seq.t\n",
       "    val add_seq : elt Seq.t -> t -> t\n",
       "    val of_seq : elt Seq.t -> t\n",
       "  end\n"
      ]
     },
     "execution_count": 83,
     "metadata": {},
     "output_type": "execute_result"
    },
    {
     "data": {
      "text/plain": [
       "val s : Str.t = <abstr>\n"
      ]
     },
     "execution_count": 83,
     "metadata": {},
     "output_type": "execute_result"
    },
    {
     "data": {
      "text/plain": [
       "val s : Str.t = <abstr>\n"
      ]
     },
     "execution_count": 83,
     "metadata": {},
     "output_type": "execute_result"
    },
    {
     "data": {
      "text/plain": [
       "val s : Str.t = <abstr>\n"
      ]
     },
     "execution_count": 83,
     "metadata": {},
     "output_type": "execute_result"
    },
    {
     "data": {
      "text/plain": [
       "val s : Str.t = <abstr>\n"
      ]
     },
     "execution_count": 83,
     "metadata": {},
     "output_type": "execute_result"
    },
    {
     "data": {
      "text/plain": [
       "val s : Str.t = <abstr>\n"
      ]
     },
     "execution_count": 83,
     "metadata": {},
     "output_type": "execute_result"
    },
    {
     "data": {
      "text/plain": [
       "- : unit = ()\n"
      ]
     },
     "execution_count": 83,
     "metadata": {},
     "output_type": "execute_result"
    }
   ],
   "source": [
    "module Pair = struct\n",
    "  type t = int * string\n",
    "  let compare (x1, y1) (x2, y2) = \n",
    "    if x1 < x2 then -1 \n",
    "    else if (x1 = x2 && y1 < y2) then -1 \n",
    "    else if (x1 = x2 && y1 = y2) then 0 else 1\n",
    "end\n",
    "\n",
    "module Str = Set.Make(Pair)\n",
    "\n",
    "let s = Str.empty\n",
    "let s = Str.add (1, \"a\") s\n",
    "let s = Str.add (2, \"b\") s\n",
    "let s = Str.add (3, \"c\") s\n",
    "let s = Str.add (4, \"d\") s\n",
    "let _ = assert Str.(mem (1, \"a\") s)"
   ]
  }
 ],
 "metadata": {
  "kernelspec": {
   "display_name": "OCaml 4.12.0",
   "language": "OCaml",
   "name": "ocaml-jupyter"
  },
  "language_info": {
   "codemirror_mode": "text/x-ocaml",
   "file_extension": ".ml",
   "mimetype": "text/x-ocaml",
   "name": "OCaml",
   "nbconverter_exporter": null,
   "pygments_lexer": "OCaml",
   "version": "4.12.0"
  }
 },
 "nbformat": 4,
 "nbformat_minor": 2
}
