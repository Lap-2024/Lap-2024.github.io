{
 "cells": [
  {
   "cell_type": "code",
   "execution_count": 8,
   "metadata": {
    "vscode": {
     "languageId": "ocaml"
    }
   },
   "outputs": [
    {
     "data": {
      "text/plain": [
       "module MyList :\n",
       "  sig\n",
       "    type 'a list = Nil | Cons of 'a * 'a list\n",
       "    val empty : 'a list\n",
       "    val length : 'a list -> int\n",
       "    val insert : 'a -> 'a list -> 'a list\n",
       "    val head : 'a list -> 'a option\n",
       "    val tail : 'a list -> 'a list option\n",
       "  end\n"
      ]
     },
     "execution_count": 8,
     "metadata": {},
     "output_type": "execute_result"
    }
   ],
   "source": [
    "module MyList = struct\n",
    "type 'a list = Nil | Cons of 'a * 'a list\n",
    "let empty = Nil\n",
    "let rec length = function\n",
    "  | Nil -> 0\n",
    "  | Cons (_, xs) -> 1 + length xs\n",
    "let insert x xs = Cons (x, xs)\n",
    "let head = function\n",
    "  | Nil -> None\n",
    "  | Cons (x, _) -> Some x\n",
    "let tail = function\n",
    "  | Nil -> None\n",
    "  | Cons (_, xs) -> Some xs\n",
    "end"
   ]
  },
  {
   "cell_type": "code",
   "execution_count": 9,
   "metadata": {
    "vscode": {
     "languageId": "ocaml"
    }
   },
   "outputs": [
    {
     "data": {
      "text/plain": [
       "module type Stack =\n",
       "  sig\n",
       "    type 'a stack\n",
       "    val empty : 'a stack\n",
       "    val push : 'a -> 'a stack -> 'a stack\n",
       "    val pop : 'a stack -> 'a stack option\n",
       "    val top : 'a stack -> 'a option\n",
       "  end\n"
      ]
     },
     "execution_count": 9,
     "metadata": {},
     "output_type": "execute_result"
    },
    {
     "data": {
      "text/plain": [
       "module MyStack : Stack\n"
      ]
     },
     "execution_count": 9,
     "metadata": {},
     "output_type": "execute_result"
    },
    {
     "data": {
      "text/plain": [
       "module AnotherStack : Stack\n"
      ]
     },
     "execution_count": 9,
     "metadata": {},
     "output_type": "execute_result"
    }
   ],
   "source": [
    "module type Stack = sig\n",
    "  type 'a stack\n",
    "  val empty : 'a stack\n",
    "  val push : 'a -> 'a stack -> 'a stack\n",
    "  val pop : 'a stack -> 'a stack option\n",
    "  val top : 'a stack -> 'a option\n",
    "end\n",
    "\n",
    "module MyStack:Stack = struct\n",
    "  type 'a stack = 'a MyList.list\n",
    "  let empty = MyList.empty\n",
    "  let push x xs = MyList.insert x xs\n",
    "  let pop = MyList.tail\n",
    "  let top = MyList.head\n",
    "end\n",
    "\n",
    "module AnotherStack : Stack = struct\n",
    "  type 'a stack = 'a list\n",
    "  let empty = []\n",
    "  let push x xs = x :: xs\n",
    "  let pop = function\n",
    "    | [] -> None\n",
    "    | _ :: xs -> Some xs\n",
    "  let top = function\n",
    "    | [] -> None\n",
    "    | x :: _ -> Some x\n",
    "end"
   ]
  },
  {
   "cell_type": "code",
   "execution_count": 10,
   "metadata": {
    "vscode": {
     "languageId": "ocaml"
    }
   },
   "outputs": [
    {
     "data": {
      "text/plain": [
       "module MyStack :\n",
       "  sig\n",
       "    type 'a stack = 'a MyList.list\n",
       "    val empty : 'a MyList.list\n",
       "    val push : 'a -> 'a MyList.list -> 'a MyList.list\n",
       "    val pop : 'a MyList.list -> 'a MyList.list option\n",
       "    val top : 'a MyList.list -> 'a option\n",
       "  end\n"
      ]
     },
     "execution_count": 10,
     "metadata": {},
     "output_type": "execute_result"
    }
   ],
   "source": [
    "module MyStack = struct\n",
    "  type 'a stack = 'a MyList.list\n",
    "  let empty = MyList.empty\n",
    "  let push x xs = MyList.insert x xs\n",
    "  let pop = MyList.tail\n",
    "  let top = MyList.head\n",
    "end"
   ]
  },
  {
   "cell_type": "code",
   "execution_count": 11,
   "metadata": {
    "vscode": {
     "languageId": "ocaml"
    }
   },
   "outputs": [
    {
     "data": {
      "text/plain": [
       "module MyStack :\n",
       "  sig\n",
       "    type 'a stack = 'a MyList.list\n",
       "    val empty : 'a MyList.list\n",
       "    val push : 'a -> 'a MyList.list -> 'a MyList.list\n",
       "    val pop : 'a MyList.list -> 'a MyList.list option\n",
       "    val top : 'a MyList.list -> 'a option\n",
       "  end\n"
      ]
     },
     "execution_count": 11,
     "metadata": {},
     "output_type": "execute_result"
    }
   ],
   "source": [
    "module MyStack = struct\n",
    "  open MyList\n",
    "\n",
    "  type 'a stack = 'a list\n",
    "  let empty = empty\n",
    "  let push x xs = insert x xs\n",
    "  let pop = tail\n",
    "  let top = head\n",
    "end"
   ]
  },
  {
   "cell_type": "code",
   "execution_count": 12,
   "metadata": {
    "vscode": {
     "languageId": "ocaml"
    }
   },
   "outputs": [
    {
     "data": {
      "text/plain": [
       "module M : sig module N : sig val x : int end end\n"
      ]
     },
     "execution_count": 12,
     "metadata": {},
     "output_type": "execute_result"
    },
    {
     "data": {
      "text/plain": [
       "val x : int = 1\n"
      ]
     },
     "execution_count": 12,
     "metadata": {},
     "output_type": "execute_result"
    }
   ],
   "source": [
    "module M = struct\n",
    "  module N = struct\n",
    "    let x = 1\n",
    "  end\n",
    "end\n",
    "\n",
    "let x = M.N.x"
   ]
  },
  {
   "cell_type": "code",
   "execution_count": 13,
   "metadata": {
    "vscode": {
     "languageId": "ocaml"
    }
   },
   "outputs": [
    {
     "data": {
      "text/plain": [
       "module M : sig end\n"
      ]
     },
     "execution_count": 13,
     "metadata": {},
     "output_type": "execute_result"
    }
   ],
   "source": [
    "module M = struct end"
   ]
  },
  {
   "cell_type": "code",
   "execution_count": 14,
   "metadata": {
    "vscode": {
     "languageId": "ocaml"
    }
   },
   "outputs": [
    {
     "data": {
      "text/plain": [
       "module IntStack :\n",
       "  sig\n",
       "    type stack\n",
       "    val empty : stack\n",
       "    val push : int -> stack -> stack\n",
       "    val pop : stack -> stack option\n",
       "    val top : stack -> int option\n",
       "  end\n"
      ]
     },
     "execution_count": 14,
     "metadata": {},
     "output_type": "execute_result"
    }
   ],
   "source": [
    "module IntStack = (struct \n",
    "  type stack = int MyStack.stack\n",
    "  let empty = MyStack.empty\n",
    "  let push = MyStack.push\n",
    "  let pop = MyStack.pop\n",
    "  let top = MyStack.top\n",
    "end : sig \n",
    "  type stack \n",
    "  val empty : stack\n",
    "  val push : int -> stack -> stack\n",
    "  val pop : stack -> stack option\n",
    "  val top : stack -> int option\n",
    "end)\n"
   ]
  },
  {
   "cell_type": "code",
   "execution_count": 23,
   "metadata": {
    "vscode": {
     "languageId": "ocaml"
    }
   },
   "outputs": [
    {
     "data": {
      "text/plain": [
       "module type X = sig val x : int end\n"
      ]
     },
     "execution_count": 23,
     "metadata": {},
     "output_type": "execute_result"
    },
    {
     "data": {
      "text/plain": [
       "module IncX : functor (M : X) -> sig val x : int end\n"
      ]
     },
     "execution_count": 23,
     "metadata": {},
     "output_type": "execute_result"
    }
   ],
   "source": [
    "module type X = sig\n",
    "  val x : int\n",
    "end\n",
    "\n",
    "module IncX (M : X) = struct\n",
    "  let x = M.x + 1\n",
    "end"
   ]
  }
 ],
 "metadata": {
  "kernelspec": {
   "display_name": "OCaml 4.12.0",
   "language": "OCaml",
   "name": "ocaml-jupyter"
  },
  "language_info": {
   "codemirror_mode": "text/x-ocaml",
   "file_extension": ".ml",
   "mimetype": "text/x-ocaml",
   "name": "OCaml",
   "nbconverter_exporter": null,
   "pygments_lexer": "OCaml",
   "version": "4.12.0"
  }
 },
 "nbformat": 4,
 "nbformat_minor": 2
}
