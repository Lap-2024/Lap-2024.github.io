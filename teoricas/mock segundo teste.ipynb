{
 "cells": [
  {
   "cell_type": "markdown",
   "metadata": {
    "vscode": {
     "languageId": "ocaml"
    }
   },
   "source": [
    "# Segundo Teste Exemplo LAP 2024\n"
   ]
  },
  {
   "cell_type": "markdown",
   "metadata": {},
   "source": [
    "## Primeiro Grupo\n",
    "\n",
    "Este grupo é composto por 6 questões de escolha múltipla sobre conhecimentos gerais de linguagens de programação. Para cada questão, apenas uma das opções é correta. Cada pergunta é avaliada em 1 ponto. "
   ]
  },
  {
   "cell_type": "markdown",
   "metadata": {},
   "source": [
    "Pergunta 1 (*) [6 valores]- principais temas:\n",
    "- Noções de linguagens de programação \n",
    "- Interpretadores e compiladores como foi dado na aula. \n",
    "- Máquinas de pilha (eg. Java) e sistemas de suporte runtime (eg. Datalog) tal como nos trabalhos."
   ]
  },
  {
   "cell_type": "markdown",
   "metadata": {},
   "source": [
    "## Segundo Grupo\n",
    "\n",
    "Este grupo é sobre algoritmos sobre tipos algébricos. \n",
    "\n",
    "Considere o tipo de dados `tree` que representa uma árvore binária de inteiros. \n",
    "\n",
    "```ocaml\n",
    "type 'a tree = \n",
    "  | Leaf \n",
    "  | Node of 'a * 'a tree * 'a tree\n",
    "```"
   ]
  },
  {
   "cell_type": "markdown",
   "metadata": {},
   "source": [
    "Pergunta 2 (*) [3 valores] Implemente a função `map` que aplica uma função a uma árvore com a seguinte assinatura:\n",
    "\n",
    "`map : ('a -> 'b) -> 'a tree -> 'b tree`\n",
    "\n",
    "como resultado, considere o exemplo, \n",
    "\n",
    "```ocaml\n",
    "let t = Node(1, Node(2, Leaf, Leaf), Node(3, Leaf, Leaf))\n",
    "let t' = map (fun x -> x + 1) t\n",
    "let _ = assert (t' = Node(2, Node(3, Leaf, Leaf), Node(4, Leaf, Leaf)))\n",
    "```"
   ]
  },
  {
   "cell_type": "markdown",
   "metadata": {
    "vscode": {
     "languageId": "ocaml"
    }
   },
   "source": [
    "Pergunta 3 (**) [3 valores] Implemente a função `filter_tree` que elimina de uma árvore todos os elementos que não satisfazem um predicado com a seguinte assinatura:\n",
    "\n",
    "`filter_tree : ()'a -> bool) -> 'a tree -> 'a tree`\n",
    "\n",
    "Como resultado, considere o exemplo,\n",
    "\n",
    "```ocaml\n",
    "let _ = \n",
    "  let t = Node(1, Node(2, Leaf, Leaf), Node(3, Leaf, Leaf) ) in\n",
    "  let t' = filter_tree (fun x -> x > 1) t' in\n",
    "  assert (t'' = Node(2, Leaf, Node(3, Leaf, Leaf)))\n",
    "```"
   ]
  },
  {
   "cell_type": "markdown",
   "metadata": {},
   "source": [
    "Pergunta 4 (***) [3 valores] Implemente a função `from_list_balanced` que constroi uma árvore balanceada a partir de uma lista com a seguinte assinatura:\n",
    "\n",
    "`from_list_balanced : 'a list -> 'a tree`"
   ]
  },
  {
   "cell_type": "markdown",
   "metadata": {},
   "source": [
    "## Terceiro Grupo\n",
    "Este grupo é sobre a utilização de módulos em OCaml. Considere a seguinte assinatura de um módulo que implementa "
   ]
  },
  {
   "cell_type": "markdown",
   "metadata": {},
   "source": [
    "Pergunta 5 (*) [2 valores] **Implemente** um módulo `X` que implementa a assinatura de módulo `Y` com uma representação interna tipo de dados `Z` que representa .... **Dê um exemplo de utilização** do módulo `X`. Ver exemplos Stack e List."
   ]
  },
  {
   "cell_type": "markdown",
   "metadata": {},
   "source": [
    "## Quarto Grupo"
   ]
  },
  {
   "cell_type": "markdown",
   "metadata": {},
   "source": [
    "Estas questões são sobre o utilização de mutabilidade, IO assíncrona, desenho de interpretadores e compiladores, etc.\n",
    "\n",
    "Pergunta 6 (*) [1 valor]. \n",
    "\n",
    "Pergunta 7 (****) [2 valores]. \n",
    "\n"
   ]
  }
 ],
 "metadata": {
  "kernelspec": {
   "display_name": "OCaml default",
   "language": "OCaml",
   "name": "ocaml-jupyter"
  },
  "language_info": {
   "codemirror_mode": "text/x-ocaml",
   "file_extension": ".ml",
   "mimetype": "text/x-ocaml",
   "name": "OCaml",
   "nbconverter_exporter": null,
   "pygments_lexer": "OCaml",
   "version": "4.10.0"
  }
 },
 "nbformat": 4,
 "nbformat_minor": 2
}
