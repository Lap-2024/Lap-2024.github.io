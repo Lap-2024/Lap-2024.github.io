{
 "cells": [
  {
   "cell_type": "markdown",
   "metadata": {},
   "source": [
    "# Linguagens e Ambientes de Programação\n",
    "## (Aula Teórica 11)\n",
    "\n",
    "### Agenda\n",
    "\n",
    "- Merge sort\n",
    "- Arvores n-árias"
   ]
  },
  {
   "cell_type": "code",
   "execution_count": 19,
   "metadata": {
    "vscode": {
     "languageId": "ocaml"
    }
   },
   "outputs": [
    {
     "data": {
      "text/plain": [
       "val split_n : int -> 'a list -> 'a list * 'a list = <fun>\n"
      ]
     },
     "execution_count": 19,
     "metadata": {},
     "output_type": "execute_result"
    },
    {
     "data": {
      "text/plain": [
       "val split : 'a list -> 'a list * 'a list = <fun>\n"
      ]
     },
     "execution_count": 19,
     "metadata": {},
     "output_type": "execute_result"
    }
   ],
   "source": [
    "let rec split_n n l = \n",
    "  if n = 0 then ([], l)\n",
    "  else match l with\n",
    "  | [] -> ([], l)\n",
    "  | x::xs -> let (l1,l2) = split_n (n-1) xs in (x::l1,l2)\n",
    "\n",
    "let split l =\n",
    "  let n = List.length l in\n",
    "  split_n (n/2) l"
   ]
  },
  {
   "cell_type": "code",
   "execution_count": 86,
   "metadata": {
    "vscode": {
     "languageId": "ocaml"
    }
   },
   "outputs": [
    {
     "data": {
      "text/plain": [
       "val split : 'a list -> 'a list * 'a list = <fun>\n"
      ]
     },
     "execution_count": 86,
     "metadata": {},
     "output_type": "execute_result"
    }
   ],
   "source": [
    "let rec split l = \n",
    "  match l with\n",
    "  | [] -> ([],[])\n",
    "  | [ x ] -> ([ x ],[])\n",
    "  | x::y::xs -> let (l1, l2) = split xs in (x::l1,y::l2)"
   ]
  },
  {
   "cell_type": "code",
   "execution_count": 91,
   "metadata": {
    "vscode": {
     "languageId": "ocaml"
    }
   },
   "outputs": [
    {
     "data": {
      "text/plain": [
       "- : int list * int list = ([1; 3], [2])\n"
      ]
     },
     "execution_count": 91,
     "metadata": {},
     "output_type": "execute_result"
    },
    {
     "data": {
      "text/plain": [
       "- : int list * int list = ([1; 3], [2; 4])\n"
      ]
     },
     "execution_count": 91,
     "metadata": {},
     "output_type": "execute_result"
    }
   ],
   "source": [
    "let _ = split [1;2;3]\n",
    "let _ = split [1;2;3;4]"
   ]
  },
  {
   "cell_type": "code",
   "execution_count": 99,
   "metadata": {
    "vscode": {
     "languageId": "ocaml"
    }
   },
   "outputs": [
    {
     "data": {
      "text/plain": [
       "val split_n : int -> 'a list -> 'a list * 'a list = <fun>\n"
      ]
     },
     "execution_count": 99,
     "metadata": {},
     "output_type": "execute_result"
    }
   ],
   "source": [
    "let rec split_n n l = \n",
    "  if n = 0 then ([],l)\n",
    "  else match l with \n",
    "  | [] -> ([],[])\n",
    "  | x::xs -> let (l1,l2) = split_n (n-1) xs in (x::l1,l2)"
   ]
  },
  {
   "cell_type": "code",
   "execution_count": 100,
   "metadata": {
    "vscode": {
     "languageId": "ocaml"
    }
   },
   "outputs": [
    {
     "data": {
      "text/plain": [
       "- : unit = ()\n"
      ]
     },
     "execution_count": 100,
     "metadata": {},
     "output_type": "execute_result"
    },
    {
     "data": {
      "text/plain": [
       "- : unit = ()\n"
      ]
     },
     "execution_count": 100,
     "metadata": {},
     "output_type": "execute_result"
    },
    {
     "data": {
      "text/plain": [
       "- : unit = ()\n"
      ]
     },
     "execution_count": 100,
     "metadata": {},
     "output_type": "execute_result"
    },
    {
     "data": {
      "text/plain": [
       "- : unit = ()\n"
      ]
     },
     "execution_count": 100,
     "metadata": {},
     "output_type": "execute_result"
    }
   ],
   "source": [
    "let _ = assert (split_n 0 [1;2;3;4;5;6] = ([], [1;2;3;4;5;6]))\n",
    "let _ = assert (split_n 1 [1;2;3;4;5;6] = ([1], [2;3;4;5;6]))\n",
    "let _ = assert (split_n 3 [1;2;3;4;5;6] = ([1;2;3], [4;5;6]))\n",
    "let _ = assert (split_n 10 [1;2;3;4;5;6] = ([1;2;3;4;5;6],[]))"
   ]
  },
  {
   "cell_type": "code",
   "execution_count": 108,
   "metadata": {
    "vscode": {
     "languageId": "ocaml"
    }
   },
   "outputs": [
    {
     "data": {
      "text/plain": [
       "val split_n : int -> 'a list -> 'a list * 'a list = <fun>\n"
      ]
     },
     "execution_count": 108,
     "metadata": {},
     "output_type": "execute_result"
    }
   ],
   "source": [
    "let split_n n l = \n",
    "  let rec split_rec n l acc = \n",
    "    if n = 0 then (List.rev acc,l)\n",
    "    else match l with \n",
    "  | [] -> (List.rev acc,l)\n",
    "  | x::xs -> split_rec (n-1) xs (x::acc)\n",
    "\n",
    "in split_rec n l []"
   ]
  },
  {
   "cell_type": "code",
   "execution_count": 109,
   "metadata": {
    "vscode": {
     "languageId": "ocaml"
    }
   },
   "outputs": [
    {
     "data": {
      "text/plain": [
       "- : int list * int list = ([1; 2; 3], [4; 5; 6])\n"
      ]
     },
     "execution_count": 109,
     "metadata": {},
     "output_type": "execute_result"
    }
   ],
   "source": [
    "let _ = split_n 3 [1;2;3;4;5;6]"
   ]
  },
  {
   "cell_type": "code",
   "execution_count": 96,
   "metadata": {
    "vscode": {
     "languageId": "ocaml"
    }
   },
   "outputs": [
    {
     "data": {
      "text/plain": [
       "val split : 'a list -> 'a list * 'a list = <fun>\n"
      ]
     },
     "execution_count": 96,
     "metadata": {},
     "output_type": "execute_result"
    }
   ],
   "source": [
    "let split l = \n",
    "  let n = List.length l in \n",
    "  split_n (n/2) l "
   ]
  },
  {
   "cell_type": "code",
   "execution_count": 98,
   "metadata": {
    "vscode": {
     "languageId": "ocaml"
    }
   },
   "outputs": [
    {
     "data": {
      "text/plain": [
       "- : unit = ()\n"
      ]
     },
     "execution_count": 98,
     "metadata": {},
     "output_type": "execute_result"
    },
    {
     "data": {
      "text/plain": [
       "- : unit = ()\n"
      ]
     },
     "execution_count": 98,
     "metadata": {},
     "output_type": "execute_result"
    },
    {
     "data": {
      "text/plain": [
       "- : unit = ()\n"
      ]
     },
     "execution_count": 98,
     "metadata": {},
     "output_type": "execute_result"
    },
    {
     "data": {
      "text/plain": [
       "- : unit = ()\n"
      ]
     },
     "execution_count": 98,
     "metadata": {},
     "output_type": "execute_result"
    },
    {
     "data": {
      "text/plain": [
       "- : unit = ()\n"
      ]
     },
     "execution_count": 98,
     "metadata": {},
     "output_type": "execute_result"
    }
   ],
   "source": [
    "let _ = assert (split [1;2;3;4;5;6] = ([1;2;3], [4;5;6]))\n",
    "let _ = assert (split [1;2;3;4;5;6;7] = ([1;2;3], [4;5;6;7]))\n",
    "let _ = assert (split_n 0 [1;2;3;4;5;6] = ([], [1;2;3;4;5;6]))\n",
    "let _ = assert (split_n 1 [1;2;3;4;5;6] = ([1], [2;3;4;5;6]))\n",
    "let _ = assert (split_n 10 [1;2;3;4;5;6] = ([1;2;3;4;5;6],[]))"
   ]
  },
  {
   "cell_type": "code",
   "execution_count": 26,
   "metadata": {
    "vscode": {
     "languageId": "ocaml"
    }
   },
   "outputs": [
    {
     "data": {
      "text/plain": [
       "val merge : 'a list -> 'a list -> 'a list = <fun>\n"
      ]
     },
     "execution_count": 26,
     "metadata": {},
     "output_type": "execute_result"
    }
   ],
   "source": [
    "let rec merge l1 l2 = \n",
    "  match l1, l2 with\n",
    "  | [], l -> l\n",
    "  | l, [] -> l\n",
    "  | x::xs, y::ys -> if x < y then x::(merge xs l2) else y::(merge l1 ys)  "
   ]
  },
  {
   "cell_type": "code",
   "execution_count": 113,
   "metadata": {
    "vscode": {
     "languageId": "ocaml"
    }
   },
   "outputs": [
    {
     "data": {
      "text/plain": [
       "val merge : 'a list -> 'a list -> 'a list = <fun>\n"
      ]
     },
     "execution_count": 113,
     "metadata": {},
     "output_type": "execute_result"
    }
   ],
   "source": [
    "let rec merge l1 l2 = \n",
    "  match l1, l2 with \n",
    "  | [], l -> l\n",
    "  | l, [] -> l \n",
    "  | x::xs, y::ys -> if x < y then x::(merge xs l2) else y::(merge l1 ys)"
   ]
  },
  {
   "cell_type": "code",
   "execution_count": 125,
   "metadata": {
    "vscode": {
     "languageId": "ocaml"
    }
   },
   "outputs": [
    {
     "data": {
      "text/plain": [
       "val merge_deduplicate : 'a list -> 'a list -> 'a list = <fun>\n"
      ]
     },
     "execution_count": 125,
     "metadata": {},
     "output_type": "execute_result"
    }
   ],
   "source": [
    "let rec merge_deduplicate l1 l2 = \n",
    "  match l1, l2 with \n",
    "  | [], l -> l\n",
    "  | l, [] -> l \n",
    "  | x::xs, y::ys -> if x = y then merge_deduplicate xs l2 else if x < y then x::(merge_deduplicate xs l2) else y::(merge_deduplicate l1 ys)"
   ]
  },
  {
   "cell_type": "code",
   "execution_count": 129,
   "metadata": {
    "vscode": {
     "languageId": "ocaml"
    }
   },
   "outputs": [
    {
     "data": {
      "text/plain": [
       "- : unit = ()\n"
      ]
     },
     "execution_count": 129,
     "metadata": {},
     "output_type": "execute_result"
    },
    {
     "data": {
      "text/plain": [
       "- : unit = ()\n"
      ]
     },
     "execution_count": 129,
     "metadata": {},
     "output_type": "execute_result"
    },
    {
     "data": {
      "text/plain": [
       "- : unit = ()\n"
      ]
     },
     "execution_count": 129,
     "metadata": {},
     "output_type": "execute_result"
    },
    {
     "data": {
      "text/plain": [
       "- : unit = ()\n"
      ]
     },
     "execution_count": 129,
     "metadata": {},
     "output_type": "execute_result"
    },
    {
     "data": {
      "text/plain": [
       "- : unit = ()\n"
      ]
     },
     "execution_count": 129,
     "metadata": {},
     "output_type": "execute_result"
    },
    {
     "data": {
      "text/plain": [
       "- : unit = ()\n"
      ]
     },
     "execution_count": 129,
     "metadata": {},
     "output_type": "execute_result"
    },
    {
     "data": {
      "text/plain": [
       "- : int list = [1; 2; 3; 4; 5; 6]\n"
      ]
     },
     "execution_count": 129,
     "metadata": {},
     "output_type": "execute_result"
    },
    {
     "data": {
      "text/plain": [
       "- : unit = ()\n"
      ]
     },
     "execution_count": 129,
     "metadata": {},
     "output_type": "execute_result"
    }
   ],
   "source": [
    "let _ = assert (merge [1;3;5] [2;4;5;6] = [1;2;3;4;5;5;6])\n",
    "let _ = assert (merge [1;3;5;5] [2;4;6] = [1;2;3;4;5;5;6])\n",
    "let _ = assert (merge [1;3;5] [2;4;6] = [1;2;3;4;5;6])\n",
    "let _ = assert (merge [1;3;5;7] [2;6] = [1;2;3;5;6;7])\n",
    "let _ = assert (merge [] [1;3] = [1;3])\n",
    "let _ = assert (merge [1;3] [] = [1;3])\n",
    "\n",
    "let _ = merge_deduplicate [1;3;5] [2;4;5;6]\n",
    "let _ = assert (merge_deduplicate [1;3;5] [2;4;5;6] = [1;2;3;4;5;6])\n"
   ]
  },
  {
   "cell_type": "code",
   "execution_count": 130,
   "metadata": {
    "vscode": {
     "languageId": "ocaml"
    }
   },
   "outputs": [
    {
     "data": {
      "text/plain": [
       "val mergesort : 'a list -> 'a list = <fun>\n"
      ]
     },
     "execution_count": 130,
     "metadata": {},
     "output_type": "execute_result"
    }
   ],
   "source": [
    "let rec mergesort l = \n",
    "  match l with \n",
    "  | [] | [_] -> l \n",
    "  | _ -> let (l1,l2) = split l in merge (mergesort l1) (mergesort l2)"
   ]
  },
  {
   "cell_type": "code",
   "execution_count": 134,
   "metadata": {
    "vscode": {
     "languageId": "ocaml"
    }
   },
   "outputs": [
    {
     "data": {
      "text/plain": [
       "- : int list = [1; 2; 3; 4; 5; 5; 6; 7; 9; 10]\n"
      ]
     },
     "execution_count": 134,
     "metadata": {},
     "output_type": "execute_result"
    },
    {
     "data": {
      "text/plain": [
       "- : unit = ()\n"
      ]
     },
     "execution_count": 134,
     "metadata": {},
     "output_type": "execute_result"
    }
   ],
   "source": [
    "let _ = mergesort [3; 2; 1; 4; 5; 6; 7; 10; 9; 5]\n",
    "let _ = assert (mergesort [3; 2; 1; 4; 5; 6; 7; 10; 9; 5] = [1; 2; 3; 4; 5; 5; 6; 7; 9; 10])"
   ]
  },
  {
   "cell_type": "code",
   "execution_count": 136,
   "metadata": {
    "vscode": {
     "languageId": "ocaml"
    }
   },
   "outputs": [
    {
     "data": {
      "text/plain": [
       "val mergesort_deduplicate : 'a list -> 'a list = <fun>\n"
      ]
     },
     "execution_count": 136,
     "metadata": {},
     "output_type": "execute_result"
    }
   ],
   "source": [
    "let rec mergesort_deduplicate l = \n",
    "  match l with \n",
    "  | [] | [_] -> l \n",
    "  | _ -> let (l1,l2) = split l in merge_deduplicate (mergesort_deduplicate l1) (mergesort_deduplicate l2)"
   ]
  },
  {
   "cell_type": "code",
   "execution_count": 139,
   "metadata": {
    "vscode": {
     "languageId": "ocaml"
    }
   },
   "outputs": [
    {
     "data": {
      "text/plain": [
       "- : int list = [1; 2; 3; 4; 5; 6; 7; 9; 10]\n"
      ]
     },
     "execution_count": 139,
     "metadata": {},
     "output_type": "execute_result"
    }
   ],
   "source": [
    "let _ = mergesort_deduplicate [5; 3; 2; 5; 1; 4; 5; 6; 7; 10; 9; 5]\n"
   ]
  },
  {
   "cell_type": "code",
   "execution_count": 8,
   "metadata": {
    "vscode": {
     "languageId": "ocaml"
    }
   },
   "outputs": [
    {
     "data": {
      "text/plain": [
       "val mergesort : 'a list -> 'a list = <fun>\n"
      ]
     },
     "execution_count": 8,
     "metadata": {},
     "output_type": "execute_result"
    }
   ],
   "source": [
    "let rec mergesort l =\n",
    "  let rec split l = match l with\n",
    "    | [] -> ([], [])\n",
    "    | [x] -> ([x], [])\n",
    "    | x::y::tl -> let (l1, l2) = split tl in (x::l1, y::l2)\n",
    "  in let rec merge l1 l2 = match (l1, l2) with\n",
    "    | ([], l) -> l\n",
    "    | (l, []) -> l\n",
    "    | (x::tl1, y::tl2) -> if x < y then x::(merge tl1 l2) else y::(merge l1 tl2)\n",
    "  in match l with \n",
    "  | [] | [_] -> l \n",
    "  | _ -> let (l1,l2) = split l in merge (mergesort l1) (mergesort l2)"
   ]
  },
  {
   "cell_type": "code",
   "execution_count": 34,
   "metadata": {
    "vscode": {
     "languageId": "ocaml"
    }
   },
   "outputs": [
    {
     "data": {
      "text/plain": [
       "- : unit = ()\n"
      ]
     },
     "execution_count": 34,
     "metadata": {},
     "output_type": "execute_result"
    }
   ],
   "source": [
    "let _ = assert (mergesort [3; 2; 1; 4; 5; 6; 7; 8; 9; 10] = [1; 2; 3; 4; 5; 6; 7; 8; 9; 10])"
   ]
  },
  {
   "cell_type": "code",
   "execution_count": 38,
   "metadata": {
    "vscode": {
     "languageId": "ocaml"
    }
   },
   "outputs": [
    {
     "data": {
      "text/plain": [
       "val split_n : int -> 'a list -> 'a list * 'a list = <fun>\n"
      ]
     },
     "execution_count": 38,
     "metadata": {},
     "output_type": "execute_result"
    }
   ],
   "source": [
    "let split_n n l =  (* tail recursive *)\n",
    "  let rec split_n_rec n l acc = \n",
    "    if n = 0 then (List.rev acc, l)\n",
    "    else match l with\n",
    "    | [] -> (List.rev acc, l)\n",
    "    | x::xs -> split_n_rec (n-1) xs (x::acc)\n",
    "  in split_n_rec n l []"
   ]
  },
  {
   "cell_type": "code",
   "execution_count": 40,
   "metadata": {
    "vscode": {
     "languageId": "ocaml"
    }
   },
   "outputs": [
    {
     "data": {
      "text/plain": [
       "- : unit = ()\n"
      ]
     },
     "execution_count": 40,
     "metadata": {},
     "output_type": "execute_result"
    },
    {
     "data": {
      "text/plain": [
       "- : unit = ()\n"
      ]
     },
     "execution_count": 40,
     "metadata": {},
     "output_type": "execute_result"
    },
    {
     "data": {
      "text/plain": [
       "- : unit = ()\n"
      ]
     },
     "execution_count": 40,
     "metadata": {},
     "output_type": "execute_result"
    }
   ],
   "source": [
    "let _ = assert (split_n 0 [1;2;3;4;5;6] = ([], [1;2;3;4;5;6]))\n",
    "let _ = assert (split_n 1 [1;2;3;4;5;6] = ([1], [2;3;4;5;6]))\n",
    "let _ = assert (split_n 10 [1;2;3;4;5;6] = ([1;2;3;4;5;6],[]))"
   ]
  },
  {
   "cell_type": "code",
   "execution_count": 42,
   "metadata": {
    "vscode": {
     "languageId": "ocaml"
    }
   },
   "outputs": [
    {
     "data": {
      "text/plain": [
       "val merge : 'a list -> 'a list -> 'a list = <fun>\n"
      ]
     },
     "execution_count": 42,
     "metadata": {},
     "output_type": "execute_result"
    }
   ],
   "source": [
    "let merge l1 l2 = (* tail recursive *)\n",
    "  let rec merge_rec l1 l2 acc =\n",
    "    match l1,l2 with\n",
    "    | [], l -> (List.rev acc)@l\n",
    "    | l, [] -> (List.rev acc)@l\n",
    "    | x::xs, y::ys -> if x < y then merge_rec xs l2 (x::acc) else merge_rec l1 ys (y::acc)\n",
    "  in merge_rec l1 l2 []"
   ]
  },
  {
   "cell_type": "code",
   "execution_count": 44,
   "metadata": {
    "vscode": {
     "languageId": "ocaml"
    }
   },
   "outputs": [
    {
     "data": {
      "text/plain": [
       "- : unit = ()\n"
      ]
     },
     "execution_count": 44,
     "metadata": {},
     "output_type": "execute_result"
    },
    {
     "data": {
      "text/plain": [
       "- : unit = ()\n"
      ]
     },
     "execution_count": 44,
     "metadata": {},
     "output_type": "execute_result"
    },
    {
     "data": {
      "text/plain": [
       "- : unit = ()\n"
      ]
     },
     "execution_count": 44,
     "metadata": {},
     "output_type": "execute_result"
    },
    {
     "data": {
      "text/plain": [
       "- : unit = ()\n"
      ]
     },
     "execution_count": 44,
     "metadata": {},
     "output_type": "execute_result"
    }
   ],
   "source": [
    "let _ = assert (merge [1;3;5] [2;4;6] = [1;2;3;4;5;6])\n",
    "let _ = assert (merge [1;3;5;7] [2;6] = [1;2;3;5;6;7])\n",
    "let _ = assert (merge [] [1;3] = [1;3])\n",
    "let _ = assert (merge [1;3] [] = [1;3])"
   ]
  },
  {
   "cell_type": "markdown",
   "metadata": {},
   "source": [
    "## BST"
   ]
  },
  {
   "cell_type": "code",
   "execution_count": 65,
   "metadata": {
    "vscode": {
     "languageId": "ocaml"
    }
   },
   "outputs": [
    {
     "data": {
      "text/plain": [
       "type 'a bst = Leaf | Node of 'a * 'a bst * 'a bst\n"
      ]
     },
     "execution_count": 65,
     "metadata": {},
     "output_type": "execute_result"
    }
   ],
   "source": [
    "type 'a bst = Leaf | Node of 'a * 'a bst * 'a bst"
   ]
  },
  {
   "cell_type": "code",
   "execution_count": 67,
   "metadata": {
    "vscode": {
     "languageId": "ocaml"
    }
   },
   "outputs": [
    {
     "data": {
      "text/plain": [
       "val insert : 'a -> 'a bst -> 'a bst = <fun>\n"
      ]
     },
     "execution_count": 67,
     "metadata": {},
     "output_type": "execute_result"
    }
   ],
   "source": [
    "let rec insert x t = \n",
    "  match t with\n",
    "  | Leaf -> Node(x, Leaf, Leaf)\n",
    "  | Node(y, l, r) -> if x < y then Node(y, insert x l, r) else Node(y, l, insert x r)"
   ]
  },
  {
   "cell_type": "code",
   "execution_count": 142,
   "metadata": {
    "vscode": {
     "languageId": "ocaml"
    }
   },
   "outputs": [
    {
     "data": {
      "text/plain": [
       "val insert : 'a -> 'a bst -> 'a bst = <fun>\n"
      ]
     },
     "execution_count": 142,
     "metadata": {},
     "output_type": "execute_result"
    }
   ],
   "source": [
    "let rec insert x t = \n",
    "  match t with\n",
    "  | Leaf -> Node(x,Leaf,Leaf)\n",
    "  | Node (y, l, r) -> if x < y then Node(y,insert x l, r) else Node (y,l,insert x r)\n"
   ]
  },
  {
   "cell_type": "code",
   "execution_count": 146,
   "metadata": {
    "vscode": {
     "languageId": "ocaml"
    }
   },
   "outputs": [
    {
     "data": {
      "text/plain": [
       "val t1 : int bst = Node (4, Leaf, Leaf)\n"
      ]
     },
     "execution_count": 146,
     "metadata": {},
     "output_type": "execute_result"
    },
    {
     "data": {
      "text/plain": [
       "val t2 : int bst = Node (4, Node (3, Leaf, Leaf), Leaf)\n"
      ]
     },
     "execution_count": 146,
     "metadata": {},
     "output_type": "execute_result"
    },
    {
     "data": {
      "text/plain": [
       "val t3 : int bst = Node (4, Node (3, Leaf, Leaf), Node (7, Leaf, Leaf))\n"
      ]
     },
     "execution_count": 146,
     "metadata": {},
     "output_type": "execute_result"
    }
   ],
   "source": [
    "let t1 = Node(4,Leaf,Leaf)\n",
    "let t2 = insert 3 t1\n",
    "let t3 = insert 7 t2\n"
   ]
  },
  {
   "cell_type": "code",
   "execution_count": 70,
   "metadata": {
    "vscode": {
     "languageId": "ocaml"
    }
   },
   "outputs": [
    {
     "data": {
      "text/plain": [
       "val remove_min : 'a bst -> 'a * 'a bst = <fun>\n"
      ]
     },
     "execution_count": 70,
     "metadata": {},
     "output_type": "execute_result"
    }
   ],
   "source": [
    "let rec remove_min t =\n",
    "  match t with\n",
    "  | Leaf -> failwith \"Tree is empty\"\n",
    "  | Node(y, Leaf, r) -> (y, r)\n",
    "  | Node(y, l, r) -> let (m, l') = remove_min l in (m, Node(y, l', r))\n",
    "  "
   ]
  },
  {
   "cell_type": "code",
   "execution_count": 147,
   "metadata": {
    "vscode": {
     "languageId": "ocaml"
    }
   },
   "outputs": [
    {
     "data": {
      "text/plain": [
       "val remove_min : 'a bst -> 'a * 'a bst = <fun>\n"
      ]
     },
     "execution_count": 147,
     "metadata": {},
     "output_type": "execute_result"
    }
   ],
   "source": [
    "(* pre: The tree is not empty *)\n",
    "let rec remove_min t = \n",
    "  match t with \n",
    "  | Leaf -> failwith \"The tree must not be empty\"\n",
    "  | Node(x,Leaf,r) -> (x,r)\n",
    "  | Node(x,l,r) -> let (m,l') = remove_min l in (m, Node(x,l',r))\n"
   ]
  },
  {
   "cell_type": "code",
   "execution_count": 148,
   "metadata": {
    "vscode": {
     "languageId": "ocaml"
    }
   },
   "outputs": [
    {
     "data": {
      "text/plain": [
       "- : unit = ()\n"
      ]
     },
     "execution_count": 148,
     "metadata": {},
     "output_type": "execute_result"
    }
   ],
   "source": [
    "let _ = assert (remove_min (Node(5, Node(3, Leaf, Leaf), Node(7, Leaf, Leaf))) = (3, Node(5, Leaf, Node(7, Leaf, Leaf))))"
   ]
  },
  {
   "cell_type": "code",
   "execution_count": 81,
   "metadata": {
    "vscode": {
     "languageId": "ocaml"
    }
   },
   "outputs": [
    {
     "data": {
      "text/plain": [
       "val remove : 'a -> 'a bst -> 'a bst = <fun>\n"
      ]
     },
     "execution_count": 81,
     "metadata": {},
     "output_type": "execute_result"
    }
   ],
   "source": [
    "let rec remove x t = \n",
    "  match t with\n",
    "  | Leaf -> Leaf\n",
    "  | Node(y,Leaf,r) when x = y -> r (* maybe superfluous *)\n",
    "  | Node(y,l,Leaf) when x = y -> l \n",
    "  | Node(y,l,r) when x = y -> let (m, r') = remove_min r in Node(m, l, r')\n",
    "  | Node(y,l,r) -> if x < y then Node(y, remove x l, r) else Node(y, l, remove x r)"
   ]
  },
  {
   "cell_type": "code",
   "execution_count": 149,
   "metadata": {
    "vscode": {
     "languageId": "ocaml"
    }
   },
   "outputs": [
    {
     "data": {
      "text/plain": [
       "val remove : 'a -> 'a bst -> 'a bst = <fun>\n"
      ]
     },
     "execution_count": 149,
     "metadata": {},
     "output_type": "execute_result"
    }
   ],
   "source": [
    "let rec remove x t = \n",
    "  match t with \n",
    "  | Leaf -> Leaf\n",
    "  | Node(y,l,Leaf) when x = y -> l\n",
    "  | Node(y,Leaf,r) when x = y -> r\n",
    "  | Node(y,l,r) when x = y -> \n",
    "      let (m,r') = remove_min r in Node(m, l, r')\n",
    "  | Node(y,l,r) when x < y -> Node(y,remove x l,r)\n",
    "  | Node(y,l,r) -> Node(y,l, remove x r)"
   ]
  },
  {
   "cell_type": "code",
   "execution_count": 150,
   "metadata": {
    "vscode": {
     "languageId": "ocaml"
    }
   },
   "outputs": [
    {
     "data": {
      "text/plain": [
       "- : unit = ()\n"
      ]
     },
     "execution_count": 150,
     "metadata": {},
     "output_type": "execute_result"
    },
    {
     "data": {
      "text/plain": [
       "- : unit = ()\n"
      ]
     },
     "execution_count": 150,
     "metadata": {},
     "output_type": "execute_result"
    }
   ],
   "source": [
    "let _ = assert (remove 3 (Node(5, Node(3, Leaf, Leaf), Node(7, Leaf, Leaf))) = Node(5, Leaf, Node(7, Leaf, Leaf)))\n",
    "let _ = assert (remove 7 (Node(5, Node(3, Leaf, Leaf), Node(7, Leaf, Node(9,Leaf,Leaf)))) = Node(5, Node(3, Leaf, Leaf), Node(9, Leaf, Leaf)))"
   ]
  },
  {
   "cell_type": "markdown",
   "metadata": {},
   "source": [
    "## Árvores n-árias"
   ]
  },
  {
   "cell_type": "code",
   "execution_count": 50,
   "metadata": {
    "vscode": {
     "languageId": "ocaml"
    }
   },
   "outputs": [
    {
     "data": {
      "text/plain": [
       "type 'a ntree = Leaf | Node of 'a * 'a ntree list\n"
      ]
     },
     "execution_count": 50,
     "metadata": {},
     "output_type": "execute_result"
    },
    {
     "data": {
      "text/plain": [
       "val nt : int ntree = Node (1, [Node (2, [Node (3, [])]); Node (4, [])])\n"
      ]
     },
     "execution_count": 50,
     "metadata": {},
     "output_type": "execute_result"
    }
   ],
   "source": [
    "type 'a ntree = Leaf | Node of 'a * 'a ntree list\n",
    "\n",
    "let nt = Node (1, [Node (2, [Node (3, [])]); Node (4, [])])\n"
   ]
  },
  {
   "cell_type": "code",
   "execution_count": 53,
   "metadata": {
    "vscode": {
     "languageId": "ocaml"
    }
   },
   "outputs": [
    {
     "data": {
      "text/plain": [
       "val sum_tree : int ntree -> int = <fun>\n"
      ]
     },
     "execution_count": 53,
     "metadata": {},
     "output_type": "execute_result"
    }
   ],
   "source": [
    "let rec sum_tree t = \n",
    "  match t with\n",
    "  | Leaf -> 0\n",
    "  | Node (v, l) -> v + List.fold_left (fun acc t -> acc + sum_tree t) 0 l"
   ]
  },
  {
   "cell_type": "code",
   "execution_count": 56,
   "metadata": {
    "vscode": {
     "languageId": "ocaml"
    }
   },
   "outputs": [
    {
     "data": {
      "text/plain": [
       "- : int = 10\n"
      ]
     },
     "execution_count": 56,
     "metadata": {},
     "output_type": "execute_result"
    }
   ],
   "source": [
    "let _ = sum_tree nt"
   ]
  },
  {
   "cell_type": "code",
   "execution_count": 62,
   "metadata": {
    "vscode": {
     "languageId": "ocaml"
    }
   },
   "outputs": [
    {
     "data": {
      "text/plain": [
       "val map_ntree : ('a -> 'b) -> 'a ntree -> 'b ntree = <fun>\n"
      ]
     },
     "execution_count": 62,
     "metadata": {},
     "output_type": "execute_result"
    }
   ],
   "source": [
    "let rec map_ntree f nt = \n",
    "  match nt with\n",
    "  | Leaf -> Leaf\n",
    "  | Node (v, l) -> Node (f v, List.map (map_ntree f) l)"
   ]
  },
  {
   "cell_type": "code",
   "execution_count": 63,
   "metadata": {
    "vscode": {
     "languageId": "ocaml"
    }
   },
   "outputs": [
    {
     "data": {
      "text/plain": [
       "- : int ntree = Node (2, [Node (3, [Node (4, [])]); Node (5, [])])\n"
      ]
     },
     "execution_count": 63,
     "metadata": {},
     "output_type": "execute_result"
    }
   ],
   "source": [
    "let _ = map_ntree ((+) 1) nt"
   ]
  },
  {
   "cell_type": "code",
   "execution_count": 59,
   "metadata": {
    "vscode": {
     "languageId": "ocaml"
    }
   },
   "outputs": [
    {
     "data": {
      "text/plain": [
       "val prefix_fold_ntree : ('a -> 'b -> 'a) -> 'a -> 'b ntree -> 'a = <fun>\n"
      ]
     },
     "execution_count": 59,
     "metadata": {},
     "output_type": "execute_result"
    }
   ],
   "source": [
    "let rec prefix_fold_ntree f acc nt =\n",
    "  match nt with\n",
    "  | Leaf -> acc\n",
    "  | Node (v, l) -> let acc_n = f acc v in List.fold_left (fun acc t -> prefix_fold_ntree f acc t) acc_n l"
   ]
  },
  {
   "cell_type": "code",
   "execution_count": 60,
   "metadata": {
    "vscode": {
     "languageId": "ocaml"
    }
   },
   "outputs": [
    {
     "data": {
      "text/plain": [
       "- : int = 10\n"
      ]
     },
     "execution_count": 60,
     "metadata": {},
     "output_type": "execute_result"
    }
   ],
   "source": [
    "let _ = prefix_fold_ntree (+) 0 nt"
   ]
  }
 ],
 "metadata": {
  "kernelspec": {
   "display_name": "OCaml 4.12.0",
   "language": "OCaml",
   "name": "ocaml-jupyter"
  },
  "language_info": {
   "codemirror_mode": "text/x-ocaml",
   "file_extension": ".ml",
   "mimetype": "text/x-ocaml",
   "name": "OCaml",
   "nbconverter_exporter": null,
   "pygments_lexer": "OCaml",
   "version": "4.12.0"
  }
 },
 "nbformat": 4,
 "nbformat_minor": 2
}
